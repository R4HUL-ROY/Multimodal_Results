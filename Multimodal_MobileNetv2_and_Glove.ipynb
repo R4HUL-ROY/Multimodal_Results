{
  "nbformat": 4,
  "nbformat_minor": 0,
  "metadata": {
    "colab": {
      "name": "Multimodal_MobileNetv2_and_Glove.ipynb",
      "provenance": [],
      "mount_file_id": "1ehQEF-hE5fGI27HfOZU43lfhwvk8Z4BY",
      "authorship_tag": "ABX9TyPQh1kqu3xv8T/FRGDUSsz2",
      "include_colab_link": true
    },
    "kernelspec": {
      "name": "python3",
      "display_name": "Python 3"
    },
    "language_info": {
      "name": "python"
    }
  },
  "cells": [
    {
      "cell_type": "markdown",
      "metadata": {
        "id": "view-in-github",
        "colab_type": "text"
      },
      "source": [
        "<a href=\"https://colab.research.google.com/github/R4HUL-ROY/Multimodal_Results/blob/main/Multimodal_MobileNetv2_and_Glove.ipynb\" target=\"_parent\"><img src=\"https://colab.research.google.com/assets/colab-badge.svg\" alt=\"Open In Colab\"/></a>"
      ]
    },
    {
      "cell_type": "markdown",
      "source": [
        "# Import dependency"
      ],
      "metadata": {
        "id": "YZ8oFvZ977lQ"
      }
    },
    {
      "cell_type": "code",
      "execution_count": 1,
      "metadata": {
        "colab": {
          "base_uri": "https://localhost:8080/"
        },
        "id": "Q_CiNM1U7pBC",
        "outputId": "b9a36d11-276e-4b7f-ec12-d405f801332c"
      },
      "outputs": [
        {
          "output_type": "stream",
          "name": "stdout",
          "text": [
            "\u001b[K     / 668.3 MB 9.1 MB/s\n",
            "\u001b[K     |████████████████████████████████| 462 kB 8.8 MB/s \n",
            "Reading package lists... Done\n",
            "Building dependency tree       \n",
            "Reading state information... Done\n",
            "The following package was automatically installed and is no longer required:\n",
            "  libnvidia-common-460\n",
            "Use 'apt autoremove' to remove it.\n",
            "The following packages will be REMOVED:\n",
            "  libcudnn8-dev\n",
            "The following held packages will be changed:\n",
            "  libcudnn8\n",
            "The following packages will be upgraded:\n",
            "  libcudnn8\n",
            "1 upgraded, 0 newly installed, 1 to remove and 43 not upgraded.\n",
            "Need to get 430 MB of archives.\n",
            "After this operation, 3,139 MB disk space will be freed.\n",
            "Get:1 https://developer.download.nvidia.com/compute/cuda/repos/ubuntu1804/x86_64  libcudnn8 8.1.0.77-1+cuda11.2 [430 MB]\n",
            "Fetched 430 MB in 8s (54.9 MB/s)\n",
            "(Reading database ... 155632 files and directories currently installed.)\n",
            "Removing libcudnn8-dev (8.0.5.39-1+cuda11.1) ...\n",
            "(Reading database ... 155610 files and directories currently installed.)\n",
            "Preparing to unpack .../libcudnn8_8.1.0.77-1+cuda11.2_amd64.deb ...\n",
            "Unpacking libcudnn8 (8.1.0.77-1+cuda11.2) over (8.0.5.39-1+cuda11.1) ...\n",
            "Setting up libcudnn8 (8.1.0.77-1+cuda11.2) ...\n"
          ]
        }
      ],
      "source": [
        "!pip install -q tensorflow==2.8\n",
        "!apt install --allow-change-held-packages libcudnn8=8.1.0.77-1+cuda11.2"
      ]
    },
    {
      "cell_type": "code",
      "source": [
        "!pip install -q tensorflow_text\n",
        "from sklearn.model_selection import train_test_split\n",
        "import matplotlib.pyplot as plt\n",
        "import pandas as pd\n",
        "import numpy as np\n",
        "import os\n",
        "import pathlib\n",
        "import tensorflow as tf\n",
        "import tensorflow_hub as hub\n",
        "import tensorflow_text as text\n",
        "from tensorflow import keras\n",
        "from tensorflow.keras import regularizers\n",
        "from tensorflow.keras.models import Model, load_model\n",
        "from tensorflow.keras.optimizers import Adam, Adamax"
      ],
      "metadata": {
        "colab": {
          "base_uri": "https://localhost:8080/"
        },
        "id": "Y4ckcEts71vG",
        "outputId": "e9e784fd-f97a-4071-a29f-d32d6eaf8c1a"
      },
      "execution_count": 2,
      "outputs": [
        {
          "output_type": "stream",
          "name": "stdout",
          "text": [
            "\u001b[K     |████████████████████████████████| 4.6 MB 7.7 MB/s \n",
            "\u001b[K     |████████████████████████████████| 511.7 MB 5.0 kB/s \n",
            "\u001b[K     |████████████████████████████████| 438 kB 23.6 MB/s \n",
            "\u001b[K     |████████████████████████████████| 5.8 MB 32.0 MB/s \n",
            "\u001b[K     |████████████████████████████████| 1.6 MB 40.8 MB/s \n",
            "\u001b[?25h"
          ]
        }
      ]
    },
    {
      "cell_type": "markdown",
      "source": [
        "# Read the data"
      ],
      "metadata": {
        "id": "2ITSwycg8AzG"
      }
    },
    {
      "cell_type": "code",
      "source": [
        "# img_data_root = pathlib.Path('/content/drive/MyDrive/Tobacco3482-jpg/')\n",
        "# print(img_data_root)\n",
        "# for item in img_data_root.iterdir():\n",
        "#   print(item)\n",
        "\n",
        "# print()\n",
        "\n",
        "# text_data_root = pathlib.Path('/content/drive/MyDrive/tobaco_OCR/')\n",
        "# print(text_data_root)\n",
        "# for item in text_data_root.iterdir():\n",
        "#   print(item)"
      ],
      "metadata": {
        "id": "QemE440Q711U"
      },
      "execution_count": null,
      "outputs": []
    },
    {
      "cell_type": "code",
      "source": [
        "# def get_corresponding_txtpath(img_path):\n",
        "#     return img_path.replace(\"Tobacco3482-jpg\", \"tobaco_OCR\")[:-3] + \"txt\"\n",
        "    \n",
        "\n",
        "# def get_file_paths_and_labels(img_data_root, text_data_root):\n",
        "#      img_paths = [str(path) for path in img_data_root.glob('*/*.jpg')]\n",
        "#      text_paths = [get_corresponding_txtpath(this_path) for this_path in img_paths]\n",
        "#      img_labels = [p.split(\"/\")[-2] for p in img_paths]\n",
        "#      text_labels = [p.split(\"/\")[-2] for p in text_paths]\n",
        "#      return img_paths, img_labels, text_paths, text_labels\n",
        "\n",
        "# img_paths, img_labels, text_paths, text_labels = get_file_paths_and_labels(img_data_root, text_data_root)\n",
        "# print(len(img_paths))\n",
        "# print(len(img_labels))\n",
        "# print(len(text_paths))\n",
        "# print(len(text_labels))"
      ],
      "metadata": {
        "id": "3hcVePal713n"
      },
      "execution_count": null,
      "outputs": []
    },
    {
      "cell_type": "code",
      "source": [
        "# def get_text_from_path(path):\n",
        "#     with open(path) as f:\n",
        "#         lines = f.readlines()\n",
        "#         lines  = ' '.join(lines)\n",
        "#         f.close()\n",
        "#     return lines\n",
        "\n",
        "# out_text = get_text_from_path('/content/drive/MyDrive/tobaco_OCR/ADVE/0000435350.txt') \n",
        "# print(out_text)"
      ],
      "metadata": {
        "id": "62pTUy397157"
      },
      "execution_count": null,
      "outputs": []
    },
    {
      "cell_type": "code",
      "source": [
        "# text_contains = []\n",
        "# c= 0 \n",
        "# for i, this_path in enumerate(text_paths):\n",
        "#     text_contains.append(get_text_from_path(this_path))\n",
        "#     print(c, end= \" \")\n",
        "#     c +=1"
      ],
      "metadata": {
        "id": "14f57wf1718Y"
      },
      "execution_count": null,
      "outputs": []
    },
    {
      "cell_type": "code",
      "source": [
        "# df = pd.DataFrame(list(zip(text_paths, text_contains, img_paths, img_labels)),\n",
        "#                columns =['text_paths','texts', 'img_paths', 'data_label'])\n",
        "\n",
        "# # Merged Dataframe\n",
        "# df.head()"
      ],
      "metadata": {
        "id": "yv6B8lgM71-_"
      },
      "execution_count": null,
      "outputs": []
    },
    {
      "cell_type": "code",
      "source": [
        "# df.to_csv(\"merged_data_for_multimodal_model.csv\")"
      ],
      "metadata": {
        "id": "O6RWknWGtKZS"
      },
      "execution_count": null,
      "outputs": []
    },
    {
      "cell_type": "markdown",
      "source": [
        "# read from saved csv file"
      ],
      "metadata": {
        "id": "xm2obR4KwcUE"
      }
    },
    {
      "cell_type": "code",
      "source": [
        "df = pd.read_csv(\"/content/drive/MyDrive/project_resources/merged_data_for_multimodal_model.csv\")\n",
        "print(len(df))\n",
        "df.head()"
      ],
      "metadata": {
        "colab": {
          "base_uri": "https://localhost:8080/",
          "height": 354
        },
        "id": "inlBa7znupnQ",
        "outputId": "cf10695c-d894-439c-c72a-6c95f1b8a6b6"
      },
      "execution_count": 4,
      "outputs": [
        {
          "output_type": "stream",
          "name": "stdout",
          "text": [
            "3482\n"
          ]
        },
        {
          "output_type": "execute_result",
          "data": {
            "text/plain": [
              "                                          text_paths  \\\n",
              "0  /content/drive/MyDrive/tobaco_OCR/ADVE/0000136...   \n",
              "1  /content/drive/MyDrive/tobaco_OCR/ADVE/0000435...   \n",
              "2  /content/drive/MyDrive/tobaco_OCR/ADVE/0030049...   \n",
              "3  /content/drive/MyDrive/tobaco_OCR/ADVE/0000556...   \n",
              "4  /content/drive/MyDrive/tobaco_OCR/ADVE/0349627...   \n",
              "\n",
              "                                               texts  \\\n",
              "0  \\n \\n \\n \\n A Mpertant as yar\\n sesiye teaeter...   \n",
              "1  \\n TE che fitm\\n m66400 7127\\n KOOLS are the o...   \n",
              "2  SR Onrel ules cee\\n Nee dss\\n The one tales WT...   \n",
              "3  so ARN Rr nr\\n BWR Ga ||\\n Vending Operators\\n...   \n",
              "4  \\n &\\n BR. :\\n er non\\n be 4\\n op Re eo eee ee...   \n",
              "\n",
              "                                           img_paths data_label  \n",
              "0  /content/drive/MyDrive/Tobacco3482-jpg/ADVE/00...       ADVE  \n",
              "1  /content/drive/MyDrive/Tobacco3482-jpg/ADVE/00...       ADVE  \n",
              "2  /content/drive/MyDrive/Tobacco3482-jpg/ADVE/00...       ADVE  \n",
              "3  /content/drive/MyDrive/Tobacco3482-jpg/ADVE/00...       ADVE  \n",
              "4  /content/drive/MyDrive/Tobacco3482-jpg/ADVE/03...       ADVE  "
            ],
            "text/html": [
              "\n",
              "  <div id=\"df-ed1e87e0-0d24-4756-b3d4-eb018e53f334\">\n",
              "    <div class=\"colab-df-container\">\n",
              "      <div>\n",
              "<style scoped>\n",
              "    .dataframe tbody tr th:only-of-type {\n",
              "        vertical-align: middle;\n",
              "    }\n",
              "\n",
              "    .dataframe tbody tr th {\n",
              "        vertical-align: top;\n",
              "    }\n",
              "\n",
              "    .dataframe thead th {\n",
              "        text-align: right;\n",
              "    }\n",
              "</style>\n",
              "<table border=\"1\" class=\"dataframe\">\n",
              "  <thead>\n",
              "    <tr style=\"text-align: right;\">\n",
              "      <th></th>\n",
              "      <th>text_paths</th>\n",
              "      <th>texts</th>\n",
              "      <th>img_paths</th>\n",
              "      <th>data_label</th>\n",
              "    </tr>\n",
              "  </thead>\n",
              "  <tbody>\n",
              "    <tr>\n",
              "      <th>0</th>\n",
              "      <td>/content/drive/MyDrive/tobaco_OCR/ADVE/0000136...</td>\n",
              "      <td>\\n \\n \\n \\n A Mpertant as yar\\n sesiye teaeter...</td>\n",
              "      <td>/content/drive/MyDrive/Tobacco3482-jpg/ADVE/00...</td>\n",
              "      <td>ADVE</td>\n",
              "    </tr>\n",
              "    <tr>\n",
              "      <th>1</th>\n",
              "      <td>/content/drive/MyDrive/tobaco_OCR/ADVE/0000435...</td>\n",
              "      <td>\\n TE che fitm\\n m66400 7127\\n KOOLS are the o...</td>\n",
              "      <td>/content/drive/MyDrive/Tobacco3482-jpg/ADVE/00...</td>\n",
              "      <td>ADVE</td>\n",
              "    </tr>\n",
              "    <tr>\n",
              "      <th>2</th>\n",
              "      <td>/content/drive/MyDrive/tobaco_OCR/ADVE/0030049...</td>\n",
              "      <td>SR Onrel ules cee\\n Nee dss\\n The one tales WT...</td>\n",
              "      <td>/content/drive/MyDrive/Tobacco3482-jpg/ADVE/00...</td>\n",
              "      <td>ADVE</td>\n",
              "    </tr>\n",
              "    <tr>\n",
              "      <th>3</th>\n",
              "      <td>/content/drive/MyDrive/tobaco_OCR/ADVE/0000556...</td>\n",
              "      <td>so ARN Rr nr\\n BWR Ga ||\\n Vending Operators\\n...</td>\n",
              "      <td>/content/drive/MyDrive/Tobacco3482-jpg/ADVE/00...</td>\n",
              "      <td>ADVE</td>\n",
              "    </tr>\n",
              "    <tr>\n",
              "      <th>4</th>\n",
              "      <td>/content/drive/MyDrive/tobaco_OCR/ADVE/0349627...</td>\n",
              "      <td>\\n &amp;\\n BR. :\\n er non\\n be 4\\n op Re eo eee ee...</td>\n",
              "      <td>/content/drive/MyDrive/Tobacco3482-jpg/ADVE/03...</td>\n",
              "      <td>ADVE</td>\n",
              "    </tr>\n",
              "  </tbody>\n",
              "</table>\n",
              "</div>\n",
              "      <button class=\"colab-df-convert\" onclick=\"convertToInteractive('df-ed1e87e0-0d24-4756-b3d4-eb018e53f334')\"\n",
              "              title=\"Convert this dataframe to an interactive table.\"\n",
              "              style=\"display:none;\">\n",
              "        \n",
              "  <svg xmlns=\"http://www.w3.org/2000/svg\" height=\"24px\"viewBox=\"0 0 24 24\"\n",
              "       width=\"24px\">\n",
              "    <path d=\"M0 0h24v24H0V0z\" fill=\"none\"/>\n",
              "    <path d=\"M18.56 5.44l.94 2.06.94-2.06 2.06-.94-2.06-.94-.94-2.06-.94 2.06-2.06.94zm-11 1L8.5 8.5l.94-2.06 2.06-.94-2.06-.94L8.5 2.5l-.94 2.06-2.06.94zm10 10l.94 2.06.94-2.06 2.06-.94-2.06-.94-.94-2.06-.94 2.06-2.06.94z\"/><path d=\"M17.41 7.96l-1.37-1.37c-.4-.4-.92-.59-1.43-.59-.52 0-1.04.2-1.43.59L10.3 9.45l-7.72 7.72c-.78.78-.78 2.05 0 2.83L4 21.41c.39.39.9.59 1.41.59.51 0 1.02-.2 1.41-.59l7.78-7.78 2.81-2.81c.8-.78.8-2.07 0-2.86zM5.41 20L4 18.59l7.72-7.72 1.47 1.35L5.41 20z\"/>\n",
              "  </svg>\n",
              "      </button>\n",
              "      \n",
              "  <style>\n",
              "    .colab-df-container {\n",
              "      display:flex;\n",
              "      flex-wrap:wrap;\n",
              "      gap: 12px;\n",
              "    }\n",
              "\n",
              "    .colab-df-convert {\n",
              "      background-color: #E8F0FE;\n",
              "      border: none;\n",
              "      border-radius: 50%;\n",
              "      cursor: pointer;\n",
              "      display: none;\n",
              "      fill: #1967D2;\n",
              "      height: 32px;\n",
              "      padding: 0 0 0 0;\n",
              "      width: 32px;\n",
              "    }\n",
              "\n",
              "    .colab-df-convert:hover {\n",
              "      background-color: #E2EBFA;\n",
              "      box-shadow: 0px 1px 2px rgba(60, 64, 67, 0.3), 0px 1px 3px 1px rgba(60, 64, 67, 0.15);\n",
              "      fill: #174EA6;\n",
              "    }\n",
              "\n",
              "    [theme=dark] .colab-df-convert {\n",
              "      background-color: #3B4455;\n",
              "      fill: #D2E3FC;\n",
              "    }\n",
              "\n",
              "    [theme=dark] .colab-df-convert:hover {\n",
              "      background-color: #434B5C;\n",
              "      box-shadow: 0px 1px 3px 1px rgba(0, 0, 0, 0.15);\n",
              "      filter: drop-shadow(0px 1px 2px rgba(0, 0, 0, 0.3));\n",
              "      fill: #FFFFFF;\n",
              "    }\n",
              "  </style>\n",
              "\n",
              "      <script>\n",
              "        const buttonEl =\n",
              "          document.querySelector('#df-ed1e87e0-0d24-4756-b3d4-eb018e53f334 button.colab-df-convert');\n",
              "        buttonEl.style.display =\n",
              "          google.colab.kernel.accessAllowed ? 'block' : 'none';\n",
              "\n",
              "        async function convertToInteractive(key) {\n",
              "          const element = document.querySelector('#df-ed1e87e0-0d24-4756-b3d4-eb018e53f334');\n",
              "          const dataTable =\n",
              "            await google.colab.kernel.invokeFunction('convertToInteractive',\n",
              "                                                     [key], {});\n",
              "          if (!dataTable) return;\n",
              "\n",
              "          const docLinkHtml = 'Like what you see? Visit the ' +\n",
              "            '<a target=\"_blank\" href=https://colab.research.google.com/notebooks/data_table.ipynb>data table notebook</a>'\n",
              "            + ' to learn more about interactive tables.';\n",
              "          element.innerHTML = '';\n",
              "          dataTable['output_type'] = 'display_data';\n",
              "          await google.colab.output.renderOutput(dataTable, element);\n",
              "          const docLink = document.createElement('div');\n",
              "          docLink.innerHTML = docLinkHtml;\n",
              "          element.appendChild(docLink);\n",
              "        }\n",
              "      </script>\n",
              "    </div>\n",
              "  </div>\n",
              "  "
            ]
          },
          "metadata": {},
          "execution_count": 4
        }
      ]
    },
    {
      "cell_type": "code",
      "source": [
        "from sklearn import preprocessing\n",
        "le = preprocessing.LabelEncoder()\n",
        "df['data_label']= le.fit_transform(df['data_label'])\n",
        "df.head()"
      ],
      "metadata": {
        "colab": {
          "base_uri": "https://localhost:8080/",
          "height": 337
        },
        "id": "1PplPFfP72Bh",
        "outputId": "ce119ab8-d0c9-44e9-fcc5-35a842a0d1e5"
      },
      "execution_count": 5,
      "outputs": [
        {
          "output_type": "execute_result",
          "data": {
            "text/plain": [
              "                                          text_paths  \\\n",
              "0  /content/drive/MyDrive/tobaco_OCR/ADVE/0000136...   \n",
              "1  /content/drive/MyDrive/tobaco_OCR/ADVE/0000435...   \n",
              "2  /content/drive/MyDrive/tobaco_OCR/ADVE/0030049...   \n",
              "3  /content/drive/MyDrive/tobaco_OCR/ADVE/0000556...   \n",
              "4  /content/drive/MyDrive/tobaco_OCR/ADVE/0349627...   \n",
              "\n",
              "                                               texts  \\\n",
              "0  \\n \\n \\n \\n A Mpertant as yar\\n sesiye teaeter...   \n",
              "1  \\n TE che fitm\\n m66400 7127\\n KOOLS are the o...   \n",
              "2  SR Onrel ules cee\\n Nee dss\\n The one tales WT...   \n",
              "3  so ARN Rr nr\\n BWR Ga ||\\n Vending Operators\\n...   \n",
              "4  \\n &\\n BR. :\\n er non\\n be 4\\n op Re eo eee ee...   \n",
              "\n",
              "                                           img_paths  data_label  \n",
              "0  /content/drive/MyDrive/Tobacco3482-jpg/ADVE/00...           0  \n",
              "1  /content/drive/MyDrive/Tobacco3482-jpg/ADVE/00...           0  \n",
              "2  /content/drive/MyDrive/Tobacco3482-jpg/ADVE/00...           0  \n",
              "3  /content/drive/MyDrive/Tobacco3482-jpg/ADVE/00...           0  \n",
              "4  /content/drive/MyDrive/Tobacco3482-jpg/ADVE/03...           0  "
            ],
            "text/html": [
              "\n",
              "  <div id=\"df-f19189da-fbfb-417e-b22d-9b8127ef7236\">\n",
              "    <div class=\"colab-df-container\">\n",
              "      <div>\n",
              "<style scoped>\n",
              "    .dataframe tbody tr th:only-of-type {\n",
              "        vertical-align: middle;\n",
              "    }\n",
              "\n",
              "    .dataframe tbody tr th {\n",
              "        vertical-align: top;\n",
              "    }\n",
              "\n",
              "    .dataframe thead th {\n",
              "        text-align: right;\n",
              "    }\n",
              "</style>\n",
              "<table border=\"1\" class=\"dataframe\">\n",
              "  <thead>\n",
              "    <tr style=\"text-align: right;\">\n",
              "      <th></th>\n",
              "      <th>text_paths</th>\n",
              "      <th>texts</th>\n",
              "      <th>img_paths</th>\n",
              "      <th>data_label</th>\n",
              "    </tr>\n",
              "  </thead>\n",
              "  <tbody>\n",
              "    <tr>\n",
              "      <th>0</th>\n",
              "      <td>/content/drive/MyDrive/tobaco_OCR/ADVE/0000136...</td>\n",
              "      <td>\\n \\n \\n \\n A Mpertant as yar\\n sesiye teaeter...</td>\n",
              "      <td>/content/drive/MyDrive/Tobacco3482-jpg/ADVE/00...</td>\n",
              "      <td>0</td>\n",
              "    </tr>\n",
              "    <tr>\n",
              "      <th>1</th>\n",
              "      <td>/content/drive/MyDrive/tobaco_OCR/ADVE/0000435...</td>\n",
              "      <td>\\n TE che fitm\\n m66400 7127\\n KOOLS are the o...</td>\n",
              "      <td>/content/drive/MyDrive/Tobacco3482-jpg/ADVE/00...</td>\n",
              "      <td>0</td>\n",
              "    </tr>\n",
              "    <tr>\n",
              "      <th>2</th>\n",
              "      <td>/content/drive/MyDrive/tobaco_OCR/ADVE/0030049...</td>\n",
              "      <td>SR Onrel ules cee\\n Nee dss\\n The one tales WT...</td>\n",
              "      <td>/content/drive/MyDrive/Tobacco3482-jpg/ADVE/00...</td>\n",
              "      <td>0</td>\n",
              "    </tr>\n",
              "    <tr>\n",
              "      <th>3</th>\n",
              "      <td>/content/drive/MyDrive/tobaco_OCR/ADVE/0000556...</td>\n",
              "      <td>so ARN Rr nr\\n BWR Ga ||\\n Vending Operators\\n...</td>\n",
              "      <td>/content/drive/MyDrive/Tobacco3482-jpg/ADVE/00...</td>\n",
              "      <td>0</td>\n",
              "    </tr>\n",
              "    <tr>\n",
              "      <th>4</th>\n",
              "      <td>/content/drive/MyDrive/tobaco_OCR/ADVE/0349627...</td>\n",
              "      <td>\\n &amp;\\n BR. :\\n er non\\n be 4\\n op Re eo eee ee...</td>\n",
              "      <td>/content/drive/MyDrive/Tobacco3482-jpg/ADVE/03...</td>\n",
              "      <td>0</td>\n",
              "    </tr>\n",
              "  </tbody>\n",
              "</table>\n",
              "</div>\n",
              "      <button class=\"colab-df-convert\" onclick=\"convertToInteractive('df-f19189da-fbfb-417e-b22d-9b8127ef7236')\"\n",
              "              title=\"Convert this dataframe to an interactive table.\"\n",
              "              style=\"display:none;\">\n",
              "        \n",
              "  <svg xmlns=\"http://www.w3.org/2000/svg\" height=\"24px\"viewBox=\"0 0 24 24\"\n",
              "       width=\"24px\">\n",
              "    <path d=\"M0 0h24v24H0V0z\" fill=\"none\"/>\n",
              "    <path d=\"M18.56 5.44l.94 2.06.94-2.06 2.06-.94-2.06-.94-.94-2.06-.94 2.06-2.06.94zm-11 1L8.5 8.5l.94-2.06 2.06-.94-2.06-.94L8.5 2.5l-.94 2.06-2.06.94zm10 10l.94 2.06.94-2.06 2.06-.94-2.06-.94-.94-2.06-.94 2.06-2.06.94z\"/><path d=\"M17.41 7.96l-1.37-1.37c-.4-.4-.92-.59-1.43-.59-.52 0-1.04.2-1.43.59L10.3 9.45l-7.72 7.72c-.78.78-.78 2.05 0 2.83L4 21.41c.39.39.9.59 1.41.59.51 0 1.02-.2 1.41-.59l7.78-7.78 2.81-2.81c.8-.78.8-2.07 0-2.86zM5.41 20L4 18.59l7.72-7.72 1.47 1.35L5.41 20z\"/>\n",
              "  </svg>\n",
              "      </button>\n",
              "      \n",
              "  <style>\n",
              "    .colab-df-container {\n",
              "      display:flex;\n",
              "      flex-wrap:wrap;\n",
              "      gap: 12px;\n",
              "    }\n",
              "\n",
              "    .colab-df-convert {\n",
              "      background-color: #E8F0FE;\n",
              "      border: none;\n",
              "      border-radius: 50%;\n",
              "      cursor: pointer;\n",
              "      display: none;\n",
              "      fill: #1967D2;\n",
              "      height: 32px;\n",
              "      padding: 0 0 0 0;\n",
              "      width: 32px;\n",
              "    }\n",
              "\n",
              "    .colab-df-convert:hover {\n",
              "      background-color: #E2EBFA;\n",
              "      box-shadow: 0px 1px 2px rgba(60, 64, 67, 0.3), 0px 1px 3px 1px rgba(60, 64, 67, 0.15);\n",
              "      fill: #174EA6;\n",
              "    }\n",
              "\n",
              "    [theme=dark] .colab-df-convert {\n",
              "      background-color: #3B4455;\n",
              "      fill: #D2E3FC;\n",
              "    }\n",
              "\n",
              "    [theme=dark] .colab-df-convert:hover {\n",
              "      background-color: #434B5C;\n",
              "      box-shadow: 0px 1px 3px 1px rgba(0, 0, 0, 0.15);\n",
              "      filter: drop-shadow(0px 1px 2px rgba(0, 0, 0, 0.3));\n",
              "      fill: #FFFFFF;\n",
              "    }\n",
              "  </style>\n",
              "\n",
              "      <script>\n",
              "        const buttonEl =\n",
              "          document.querySelector('#df-f19189da-fbfb-417e-b22d-9b8127ef7236 button.colab-df-convert');\n",
              "        buttonEl.style.display =\n",
              "          google.colab.kernel.accessAllowed ? 'block' : 'none';\n",
              "\n",
              "        async function convertToInteractive(key) {\n",
              "          const element = document.querySelector('#df-f19189da-fbfb-417e-b22d-9b8127ef7236');\n",
              "          const dataTable =\n",
              "            await google.colab.kernel.invokeFunction('convertToInteractive',\n",
              "                                                     [key], {});\n",
              "          if (!dataTable) return;\n",
              "\n",
              "          const docLinkHtml = 'Like what you see? Visit the ' +\n",
              "            '<a target=\"_blank\" href=https://colab.research.google.com/notebooks/data_table.ipynb>data table notebook</a>'\n",
              "            + ' to learn more about interactive tables.';\n",
              "          element.innerHTML = '';\n",
              "          dataTable['output_type'] = 'display_data';\n",
              "          await google.colab.output.renderOutput(dataTable, element);\n",
              "          const docLink = document.createElement('div');\n",
              "          docLink.innerHTML = docLinkHtml;\n",
              "          element.appendChild(docLink);\n",
              "        }\n",
              "      </script>\n",
              "    </div>\n",
              "  </div>\n",
              "  "
            ]
          },
          "metadata": {},
          "execution_count": 5
        }
      ]
    },
    {
      "cell_type": "code",
      "source": [
        "label_dict = {}\n",
        "for idx, row in enumerate(df['text_paths']):\n",
        "    path = df.at[idx, 'text_paths']\n",
        "    lab = path.split(\"/\")[-2]\n",
        "    label_dict[str(lab)] = df.at[idx, 'data_label']\n",
        "    \n",
        "print(label_dict) "
      ],
      "metadata": {
        "colab": {
          "base_uri": "https://localhost:8080/"
        },
        "id": "i3isq2Zx72D9",
        "outputId": "01f3d196-fff5-4e30-c54a-72397e3d8f1a"
      },
      "execution_count": 6,
      "outputs": [
        {
          "output_type": "stream",
          "name": "stdout",
          "text": [
            "{'ADVE': 0, 'Form': 2, 'Note': 6, 'Email': 1, 'News': 5, 'Resume': 8, 'Scientific': 9, 'Memo': 4, 'Report': 7, 'Letter': 3}\n"
          ]
        }
      ]
    },
    {
      "cell_type": "code",
      "source": [
        "import re\n",
        "def preprocess(text_string):\n",
        "    preprocessed_string = re.sub(r'[^\\w\\s]','',text_string)\n",
        "    preprocessed_string = preprocessed_string.replace('\\n',' ')\n",
        "    preprocessed_string = preprocessed_string.replace('_',' ')\n",
        "    preprocessed_string = re.sub(' +', ' ', preprocessed_string)\n",
        "    return preprocessed_string"
      ],
      "metadata": {
        "id": "Sm-zwQE-72Gp"
      },
      "execution_count": 7,
      "outputs": []
    },
    {
      "cell_type": "code",
      "source": [
        "# Tokenize, Lemmatize, stopwords removal\n",
        "import spacy \n",
        "import nltk\n",
        "nlp = spacy.load(\"en\", disable=['parser', 'tagger', 'ner'])\n",
        "from nltk.corpus import stopwords\n",
        "nltk.download('stopwords')\n",
        "stops = stopwords.words(\"english\")\n",
        "\n",
        "def normalize(comment, lowercase, remove_stopwords):\n",
        "    if lowercase:\n",
        "        comment = comment.lower()\n",
        "    comment = nlp(comment)\n",
        "    lemmatized = list()\n",
        "    for word in comment:\n",
        "        lemma = word.lemma_.strip()\n",
        "        if lemma:\n",
        "            if not remove_stopwords or (remove_stopwords and lemma not in stops):\n",
        "                lemmatized.append(lemma)\n",
        "    return \" \".join(lemmatized)\n",
        "\n",
        "normalize(\"counting playing the Home\", lowercase=True, remove_stopwords=True)"
      ],
      "metadata": {
        "colab": {
          "base_uri": "https://localhost:8080/",
          "height": 70
        },
        "id": "sH1JLlnx8V8S",
        "outputId": "de60a8eb-0f65-46b2-84dd-7b00d7708aa8"
      },
      "execution_count": 8,
      "outputs": [
        {
          "output_type": "stream",
          "name": "stdout",
          "text": [
            "[nltk_data] Downloading package stopwords to /root/nltk_data...\n",
            "[nltk_data]   Unzipping corpora/stopwords.zip.\n"
          ]
        },
        {
          "output_type": "execute_result",
          "data": {
            "text/plain": [
              "'count play home'"
            ],
            "application/vnd.google.colaboratory.intrinsic+json": {
              "type": "string"
            }
          },
          "metadata": {},
          "execution_count": 8
        }
      ]
    },
    {
      "cell_type": "code",
      "source": [
        "df['texts'] = [preprocess(str(this_text)) for this_text in df['texts']]\n",
        "df['texts'] = [normalize(this_text, lowercase=True, remove_stopwords=True) for this_text in df['texts']]\n",
        "df.head()"
      ],
      "metadata": {
        "colab": {
          "base_uri": "https://localhost:8080/",
          "height": 337
        },
        "id": "R-65SWZl8V-h",
        "outputId": "92f2d99e-9c37-48ba-cf92-13db311e895e"
      },
      "execution_count": 9,
      "outputs": [
        {
          "output_type": "execute_result",
          "data": {
            "text/plain": [
              "                                          text_paths  \\\n",
              "0  /content/drive/MyDrive/tobaco_OCR/ADVE/0000136...   \n",
              "1  /content/drive/MyDrive/tobaco_OCR/ADVE/0000435...   \n",
              "2  /content/drive/MyDrive/tobaco_OCR/ADVE/0030049...   \n",
              "3  /content/drive/MyDrive/tobaco_OCR/ADVE/0000556...   \n",
              "4  /content/drive/MyDrive/tobaco_OCR/ADVE/0349627...   \n",
              "\n",
              "                                               texts  \\\n",
              "0  mpertant yar sesiye teaetered cabiieess baely ...   \n",
              "1  te che fitm m66400 7127 kools cigarette taste ...   \n",
              "2  sr onrel ules cee nee dss one tale wt lower ta...   \n",
              "3  arn rr nr bwr ga vend operator column worth 8 ...   \n",
              "4  br er non 4 op eo eee ee eee talk smoke decide...   \n",
              "\n",
              "                                           img_paths  data_label  \n",
              "0  /content/drive/MyDrive/Tobacco3482-jpg/ADVE/00...           0  \n",
              "1  /content/drive/MyDrive/Tobacco3482-jpg/ADVE/00...           0  \n",
              "2  /content/drive/MyDrive/Tobacco3482-jpg/ADVE/00...           0  \n",
              "3  /content/drive/MyDrive/Tobacco3482-jpg/ADVE/00...           0  \n",
              "4  /content/drive/MyDrive/Tobacco3482-jpg/ADVE/03...           0  "
            ],
            "text/html": [
              "\n",
              "  <div id=\"df-fe7b6d30-e98f-4620-830e-8d98948f10cf\">\n",
              "    <div class=\"colab-df-container\">\n",
              "      <div>\n",
              "<style scoped>\n",
              "    .dataframe tbody tr th:only-of-type {\n",
              "        vertical-align: middle;\n",
              "    }\n",
              "\n",
              "    .dataframe tbody tr th {\n",
              "        vertical-align: top;\n",
              "    }\n",
              "\n",
              "    .dataframe thead th {\n",
              "        text-align: right;\n",
              "    }\n",
              "</style>\n",
              "<table border=\"1\" class=\"dataframe\">\n",
              "  <thead>\n",
              "    <tr style=\"text-align: right;\">\n",
              "      <th></th>\n",
              "      <th>text_paths</th>\n",
              "      <th>texts</th>\n",
              "      <th>img_paths</th>\n",
              "      <th>data_label</th>\n",
              "    </tr>\n",
              "  </thead>\n",
              "  <tbody>\n",
              "    <tr>\n",
              "      <th>0</th>\n",
              "      <td>/content/drive/MyDrive/tobaco_OCR/ADVE/0000136...</td>\n",
              "      <td>mpertant yar sesiye teaetered cabiieess baely ...</td>\n",
              "      <td>/content/drive/MyDrive/Tobacco3482-jpg/ADVE/00...</td>\n",
              "      <td>0</td>\n",
              "    </tr>\n",
              "    <tr>\n",
              "      <th>1</th>\n",
              "      <td>/content/drive/MyDrive/tobaco_OCR/ADVE/0000435...</td>\n",
              "      <td>te che fitm m66400 7127 kools cigarette taste ...</td>\n",
              "      <td>/content/drive/MyDrive/Tobacco3482-jpg/ADVE/00...</td>\n",
              "      <td>0</td>\n",
              "    </tr>\n",
              "    <tr>\n",
              "      <th>2</th>\n",
              "      <td>/content/drive/MyDrive/tobaco_OCR/ADVE/0030049...</td>\n",
              "      <td>sr onrel ules cee nee dss one tale wt lower ta...</td>\n",
              "      <td>/content/drive/MyDrive/Tobacco3482-jpg/ADVE/00...</td>\n",
              "      <td>0</td>\n",
              "    </tr>\n",
              "    <tr>\n",
              "      <th>3</th>\n",
              "      <td>/content/drive/MyDrive/tobaco_OCR/ADVE/0000556...</td>\n",
              "      <td>arn rr nr bwr ga vend operator column worth 8 ...</td>\n",
              "      <td>/content/drive/MyDrive/Tobacco3482-jpg/ADVE/00...</td>\n",
              "      <td>0</td>\n",
              "    </tr>\n",
              "    <tr>\n",
              "      <th>4</th>\n",
              "      <td>/content/drive/MyDrive/tobaco_OCR/ADVE/0349627...</td>\n",
              "      <td>br er non 4 op eo eee ee eee talk smoke decide...</td>\n",
              "      <td>/content/drive/MyDrive/Tobacco3482-jpg/ADVE/03...</td>\n",
              "      <td>0</td>\n",
              "    </tr>\n",
              "  </tbody>\n",
              "</table>\n",
              "</div>\n",
              "      <button class=\"colab-df-convert\" onclick=\"convertToInteractive('df-fe7b6d30-e98f-4620-830e-8d98948f10cf')\"\n",
              "              title=\"Convert this dataframe to an interactive table.\"\n",
              "              style=\"display:none;\">\n",
              "        \n",
              "  <svg xmlns=\"http://www.w3.org/2000/svg\" height=\"24px\"viewBox=\"0 0 24 24\"\n",
              "       width=\"24px\">\n",
              "    <path d=\"M0 0h24v24H0V0z\" fill=\"none\"/>\n",
              "    <path d=\"M18.56 5.44l.94 2.06.94-2.06 2.06-.94-2.06-.94-.94-2.06-.94 2.06-2.06.94zm-11 1L8.5 8.5l.94-2.06 2.06-.94-2.06-.94L8.5 2.5l-.94 2.06-2.06.94zm10 10l.94 2.06.94-2.06 2.06-.94-2.06-.94-.94-2.06-.94 2.06-2.06.94z\"/><path d=\"M17.41 7.96l-1.37-1.37c-.4-.4-.92-.59-1.43-.59-.52 0-1.04.2-1.43.59L10.3 9.45l-7.72 7.72c-.78.78-.78 2.05 0 2.83L4 21.41c.39.39.9.59 1.41.59.51 0 1.02-.2 1.41-.59l7.78-7.78 2.81-2.81c.8-.78.8-2.07 0-2.86zM5.41 20L4 18.59l7.72-7.72 1.47 1.35L5.41 20z\"/>\n",
              "  </svg>\n",
              "      </button>\n",
              "      \n",
              "  <style>\n",
              "    .colab-df-container {\n",
              "      display:flex;\n",
              "      flex-wrap:wrap;\n",
              "      gap: 12px;\n",
              "    }\n",
              "\n",
              "    .colab-df-convert {\n",
              "      background-color: #E8F0FE;\n",
              "      border: none;\n",
              "      border-radius: 50%;\n",
              "      cursor: pointer;\n",
              "      display: none;\n",
              "      fill: #1967D2;\n",
              "      height: 32px;\n",
              "      padding: 0 0 0 0;\n",
              "      width: 32px;\n",
              "    }\n",
              "\n",
              "    .colab-df-convert:hover {\n",
              "      background-color: #E2EBFA;\n",
              "      box-shadow: 0px 1px 2px rgba(60, 64, 67, 0.3), 0px 1px 3px 1px rgba(60, 64, 67, 0.15);\n",
              "      fill: #174EA6;\n",
              "    }\n",
              "\n",
              "    [theme=dark] .colab-df-convert {\n",
              "      background-color: #3B4455;\n",
              "      fill: #D2E3FC;\n",
              "    }\n",
              "\n",
              "    [theme=dark] .colab-df-convert:hover {\n",
              "      background-color: #434B5C;\n",
              "      box-shadow: 0px 1px 3px 1px rgba(0, 0, 0, 0.15);\n",
              "      filter: drop-shadow(0px 1px 2px rgba(0, 0, 0, 0.3));\n",
              "      fill: #FFFFFF;\n",
              "    }\n",
              "  </style>\n",
              "\n",
              "      <script>\n",
              "        const buttonEl =\n",
              "          document.querySelector('#df-fe7b6d30-e98f-4620-830e-8d98948f10cf button.colab-df-convert');\n",
              "        buttonEl.style.display =\n",
              "          google.colab.kernel.accessAllowed ? 'block' : 'none';\n",
              "\n",
              "        async function convertToInteractive(key) {\n",
              "          const element = document.querySelector('#df-fe7b6d30-e98f-4620-830e-8d98948f10cf');\n",
              "          const dataTable =\n",
              "            await google.colab.kernel.invokeFunction('convertToInteractive',\n",
              "                                                     [key], {});\n",
              "          if (!dataTable) return;\n",
              "\n",
              "          const docLinkHtml = 'Like what you see? Visit the ' +\n",
              "            '<a target=\"_blank\" href=https://colab.research.google.com/notebooks/data_table.ipynb>data table notebook</a>'\n",
              "            + ' to learn more about interactive tables.';\n",
              "          element.innerHTML = '';\n",
              "          dataTable['output_type'] = 'display_data';\n",
              "          await google.colab.output.renderOutput(dataTable, element);\n",
              "          const docLink = document.createElement('div');\n",
              "          docLink.innerHTML = docLinkHtml;\n",
              "          element.appendChild(docLink);\n",
              "        }\n",
              "      </script>\n",
              "    </div>\n",
              "  </div>\n",
              "  "
            ]
          },
          "metadata": {},
          "execution_count": 9
        }
      ]
    },
    {
      "cell_type": "markdown",
      "source": [
        "# Download and load glove model"
      ],
      "metadata": {
        "id": "y52xOZcJ_2vD"
      }
    },
    {
      "cell_type": "code",
      "source": [
        "# import urllib.request\n",
        "# urllib.request.urlretrieve('https://nlp.stanford.edu/data/glove.6B.zip','glove.6B.zip')\n",
        "# !unzip \"/content/glove.6B.zip\" -d \"/content/\""
      ],
      "metadata": {
        "id": "54dlPg1s_1ik"
      },
      "execution_count": null,
      "outputs": []
    },
    {
      "cell_type": "code",
      "source": [
        "# emmbed_dict = {}\n",
        "# with open('/content/glove.6B.200d.txt','r') as f:\n",
        "#   for line in f:\n",
        "#     values = line.split()\n",
        "#     word = values[0]\n",
        "#     vector = np.asarray(values[1:],'float32')\n",
        "#     emmbed_dict[word]=vector\n",
        "# f.close()"
      ],
      "metadata": {
        "id": "Nl0VJirj_5Sp"
      },
      "execution_count": null,
      "outputs": []
    },
    {
      "cell_type": "markdown",
      "source": [
        "# Load the predownloaded glove vector from drive"
      ],
      "metadata": {
        "id": "xX5wc6GZ7oUe"
      }
    },
    {
      "cell_type": "code",
      "source": [
        "emmbed_dict = {}\n",
        "with open('/content/drive/MyDrive/project_resources/glove.6B.200d.txt','r') as f:\n",
        "  for line in f:\n",
        "    values = line.split()\n",
        "    word = values[0]\n",
        "    vector = np.asarray(values[1:],'float32')\n",
        "    emmbed_dict[word]=vector\n",
        "f.close()"
      ],
      "metadata": {
        "id": "DQWmMMdg_5Ww"
      },
      "execution_count": 10,
      "outputs": []
    },
    {
      "cell_type": "code",
      "source": [
        "from tensorflow.keras.preprocessing.text import Tokenizer\n",
        "from tensorflow.keras.preprocessing.sequence import pad_sequences"
      ],
      "metadata": {
        "id": "vEtIKx7H8WAw"
      },
      "execution_count": 11,
      "outputs": []
    },
    {
      "cell_type": "markdown",
      "source": [
        "# Multimodal utility function"
      ],
      "metadata": {
        "id": "oA1rEVdm9WcG"
      }
    },
    {
      "cell_type": "code",
      "source": [
        "def dataframe_to_dataset(dataframe):\n",
        "    d = {}\n",
        "    embed_tensor = []\n",
        "    for i in dataframe['texts_embedding']:\n",
        "        embed_tensor.append(tf.convert_to_tensor(i))\n",
        "\n",
        "    img_path_tensor= []\n",
        "    for i in dataframe['img_paths']:\n",
        "        img_path_tensor.append(tf.convert_to_tensor(i))\n",
        "\n",
        "    d['texts_embedding'] = embed_tensor\n",
        "    d['img_paths'] = img_path_tensor\n",
        "\n",
        "    labels = dataframe[\"data_label\"]\n",
        "    labels = tf.convert_to_tensor(labels)\n",
        "    ds = tf.data.Dataset.from_tensor_slices((d, labels))\n",
        "    return ds"
      ],
      "metadata": {
        "id": "CJLs2Y_q-ALF"
      },
      "execution_count": 12,
      "outputs": []
    },
    {
      "cell_type": "code",
      "source": [
        "def preprocess_image(image_path):\n",
        "    extension = tf.strings.split(image_path)[-1]\n",
        "\n",
        "    image = tf.io.read_file(image_path)\n",
        "    if extension == b\"jpg\":\n",
        "        image = tf.image.decode_jpeg(image, 3)\n",
        "    else:\n",
        "        image = tf.image.decode_png(image, 3)\n",
        "    image = tf.image.resize(image, (224, 224))\n",
        "    # per image standardization\n",
        "    return image\n",
        "\n",
        "\n",
        "def preprocess_text(sample):\n",
        "    pass\n",
        "\n",
        "def preprocess_text_and_image(sample):\n",
        "    image = preprocess_image(sample[\"img_paths\"])\n",
        "    text = sample['texts_embedding']\n",
        "    return {\"image_inputs\": image,  \"text_inputs\": text}"
      ],
      "metadata": {
        "id": "uwbitQVP9VaJ"
      },
      "execution_count": 13,
      "outputs": []
    },
    {
      "cell_type": "code",
      "source": [
        "batch_size = 32\n",
        "auto = tf.data.AUTOTUNE\n",
        "\n",
        "def prepare_dataset(dataframe, training = True):\n",
        "    ds = dataframe_to_dataset(dataframe)\n",
        "    if training:\n",
        "        ds = ds.shuffle(len(train_df))\n",
        "    ds = ds.map(lambda x, y: (preprocess_text_and_image(x), y)).cache()\n",
        "    ds = ds.batch(batch_size).prefetch(auto)\n",
        "    return ds"
      ],
      "metadata": {
        "id": "xiRCkg7r9t2s"
      },
      "execution_count": 14,
      "outputs": []
    },
    {
      "cell_type": "markdown",
      "source": [
        "# Text encoder and vision encoder Utility Function for model Creation"
      ],
      "metadata": {
        "id": "syQIYnX6Aq6c"
      }
    },
    {
      "cell_type": "code",
      "source": [
        "from keras.models import Sequential\n",
        "from keras.layers import Embedding, LSTM, Dense, Dropout, Conv1D, GlobalMaxPooling1D, MaxPooling1D\n",
        "from keras.initializers import Constant\n",
        "from tensorflow.keras.optimizers import Adam"
      ],
      "metadata": {
        "id": "xpWUFuSCAzko"
      },
      "execution_count": 15,
      "outputs": []
    },
    {
      "cell_type": "code",
      "source": [
        "def create_text_encoder(text_projection_dims, dropout_rate, text_model_trainable):\n",
        "\n",
        "    inputs = keras.Input(shape=(500,), dtype=tf.int32, name=\"text_inputs\")\n",
        "\n",
        "    embed = tf.keras.layers.Embedding(  num_words,\n",
        "                                        200,\n",
        "                                        embeddings_initializer = Constant(embedding_matrix),\n",
        "                                        trainable = text_model_trainable\n",
        "                                     )(inputs)\n",
        "    \n",
        "\n",
        "    x = tf.keras.layers.Dropout(0.2)(embed)\n",
        "    x = tf.keras.layers.Conv1D(filters=128,kernel_size=3,padding='valid',activation='relu',strides=1)(x)\n",
        "    x = tf.keras.layers.MaxPooling1D()(x)\n",
        "    x = tf.keras.layers.Conv1D(filters=128,kernel_size=3,padding='valid',activation='relu',strides=1)(x)\n",
        "    x = tf.keras.layers.MaxPooling1D()(x)\n",
        "    x = tf.keras.layers.Conv1D(filters=128,kernel_size=3,padding='valid',activation='relu',strides=1)(x)\n",
        "    x = tf.keras.layers.MaxPooling1D()(x)\n",
        "    x = tf.keras.layers.Conv1D(filters=128,kernel_size=3,padding='valid',activation='relu',strides=1)(x)\n",
        "    x = tf.keras.layers.GlobalMaxPooling1D()(x)\n",
        "    outputs = keras.layers.Dense(units = text_projection_dims, activation = \"relu\")(x)\n",
        "\n",
        "    return keras.Model(inputs, outputs, name=\"text_encoder\")"
      ],
      "metadata": {
        "id": "-i6o1LsdAzmc"
      },
      "execution_count": 16,
      "outputs": []
    },
    {
      "cell_type": "code",
      "source": [
        "def create_vision_encoder(img_projection_dims, dropout_rate, img_base_model_trainable):\n",
        "    img_shape=(224,224,3)\n",
        "    seed_value = 42\n",
        "\n",
        "    base_model=tf.keras.applications.MobileNetV2(include_top=False,\n",
        "                                                 input_shape=img_shape, \n",
        "                                                 pooling='avg', \n",
        "                                                 classes=10,\n",
        "                                                 weights=None)\n",
        "    \n",
        "    base_model.load_weights(\"/content/drive/MyDrive/project_resources/Imagenet_weights/mobilenet_v2_weights_tf_dim_ordering_tf_kernels_1.0_224_no_top.h5\")\n",
        "    base_model.trainable = img_base_model_trainable\n",
        "\n",
        "\n",
        "    inputs = keras.Input(shape=img_shape)\n",
        "    x = base_model(inputs, training = img_base_model_trainable)\n",
        "\n",
        "    outputs =tf.keras.layers.Dense(img_projection_dims, kernel_regularizer = regularizers.l2(l = 0.016),activity_regularizer=regularizers.l1(0.006), \n",
        "                         bias_regularizer=regularizers.l1(0.006),activation='relu',kernel_initializer=tf.keras.initializers.GlorotUniform(seed=seed_value))(x)\n",
        "\n",
        "    model=Model(inputs, outputs)\n",
        "\n",
        "    # Receive the images as inputs.\n",
        "    image_inputs = keras.Input(shape=(224, 224, 3), name=\"image_inputs\")\n",
        "    preprocessed_image = tf.keras.applications.mobilenet_v2.preprocess_input(image_inputs)\n",
        "    \n",
        "    embeddings = model(preprocessed_image)\n",
        "\n",
        "    # Create the vision encoder model.\n",
        "    return keras.Model(image_inputs, embeddings, name=\"vision_encoder\")"
      ],
      "metadata": {
        "id": "K02oz1FKA5An"
      },
      "execution_count": 17,
      "outputs": []
    },
    {
      "cell_type": "code",
      "source": [
        "def create_multimodal_model(**kwargs):\n",
        "\n",
        "    img_projection_dims = kwargs['img_projection_dims']\n",
        "    text_projection_dims = kwargs['text_projection_dims']\n",
        "    dropout_rate = kwargs['dropout_rate']\n",
        "    img_base_model_trainable = kwargs['img_base_model_trainable']\n",
        "    text_model_trainable = kwargs['text_model_trainable']\n",
        "\n",
        "    # Receive the images and text as inputs.\n",
        "    image_inputs = keras.Input(shape=(224, 224, 3), name=\"image_inputs\")\n",
        "    \n",
        "    text_inputs = keras.Input(shape=(500,), dtype=tf.int32, name=\"text_inputs\")\n",
        "\n",
        "    # Create the encoders.\n",
        "    vision_encoder = create_vision_encoder(img_projection_dims, dropout_rate, img_base_model_trainable)\n",
        "    text_encoder = create_text_encoder(text_projection_dims, dropout_rate, text_model_trainable)\n",
        "\n",
        "\n",
        "    # Fetch the embedding projections.\n",
        "    vision_projections = vision_encoder(image_inputs)\n",
        "    text_projections = text_encoder(text_inputs)\n",
        "\n",
        "    # Concatenate the projections and pass through the classification layer.\n",
        "    concatenated = keras.layers.Concatenate()([vision_projections, text_projections])\n",
        "\n",
        "    # dropped_concat = tf.keras.layers.Dropout(dropout_rate)(concatenated)\n",
        "\n",
        "    outputs = keras.layers.Dense(10, activation=\"softmax\")(concatenated)\n",
        "    return keras.Model([image_inputs, text_inputs], outputs)"
      ],
      "metadata": {
        "id": "xoKMPBd3A5Cr"
      },
      "execution_count": 18,
      "outputs": []
    },
    {
      "cell_type": "markdown",
      "source": [
        "# Trial train and evaluating result"
      ],
      "metadata": {
        "id": "aYHPAsoL9ZaW"
      }
    },
    {
      "cell_type": "code",
      "source": [
        "from sklearn.metrics import classification_report, confusion_matrix\n",
        "from sklearn.metrics import precision_score, recall_score, f1_score, accuracy_score\n",
        "import random\n",
        "random.seed(56)"
      ],
      "metadata": {
        "id": "EVGhdr63IpaD"
      },
      "execution_count": 19,
      "outputs": []
    },
    {
      "cell_type": "code",
      "source": [
        "epochs = 2\n",
        "fine_tune_epochs = 2\n",
        "lr = 0.001\n",
        "\n",
        "d = {\n",
        "    \"precision\" : [],\n",
        "     \"recall\" : [],\n",
        "     \"f1_score\" : [],\n",
        "     \"accuracy\" : [],\n",
        "     \"seed_value\" : []\n",
        "}\n",
        "seed = []\n",
        "\n",
        "for i in range(2):\n",
        "    print('#Run: ', i+1)\n",
        "    sd = random.randint(0, 100)\n",
        "    seed.append(sd)\n",
        "\n",
        "    # Split the dataframe\n",
        "    train_df, test_df = train_test_split(df, test_size=0.2, random_state=sd)\n",
        "    test_df, val_df = train_test_split(test_df, test_size=0.5, random_state=sd)\n",
        "\n",
        "    max_len = 500\n",
        "    # Fit the tokenizer\n",
        "    tokenizer = Tokenizer(num_words=100000)\n",
        "    tokenizer.fit_on_texts(train_df['texts'])\n",
        "\n",
        "    # sequence the input corpus and add zero padding upto 500 word\n",
        "    train_sequence = tokenizer.texts_to_sequences(train_df['texts'])\n",
        "    train_padded = pad_sequences(train_sequence, maxlen = max_len, truncating = \"post\", padding = \"post\" )\n",
        "\n",
        "    valid_sequence = tokenizer.texts_to_sequences(val_df['texts'])\n",
        "    valid_padded = pad_sequences(valid_sequence, maxlen = max_len, truncating = \"post\", padding = \"post\" )\n",
        "\n",
        "    test_sequence = tokenizer.texts_to_sequences(test_df['texts'])\n",
        "    test_padded = pad_sequences(test_sequence, maxlen = max_len, truncating = \"post\", padding = \"post\" )\n",
        "\n",
        "    train_tensor = [tf.convert_to_tensor(train_padded[i]) for i in range(train_padded.shape[0])]\n",
        "    train_df['texts_embedding'] = train_tensor\n",
        "\n",
        "    test_tensor = [tf.convert_to_tensor(test_padded[i]) for i in range(test_padded.shape[0])]\n",
        "    test_df['texts_embedding'] = test_tensor   \n",
        "\n",
        "    val_tensor = [tf.convert_to_tensor(valid_padded[i]) for i in range(valid_padded.shape[0])]\n",
        "    val_df['texts_embedding'] = val_tensor \n",
        "\n",
        "\n",
        "    # Preparing dataset\n",
        "    train_ds = prepare_dataset(train_df)\n",
        "    val_ds = prepare_dataset(val_df, False)\n",
        "    test_ds = prepare_dataset(test_df, False)\n",
        "\n",
        "    # Creating Glove embedding matrix\n",
        "    word_index = tokenizer.word_index\n",
        "    num_words = len(word_index) + 1\n",
        "    embedding_matrix = np.zeros((num_words, 200))\n",
        "\n",
        "    for word, i in word_index.items():\n",
        "        if i < num_words:\n",
        "            emb_vec = emmbed_dict.get(word)\n",
        "            if emb_vec is not None:\n",
        "                embedding_matrix[i] = emb_vec\n",
        "\n",
        "\n",
        "    # Creating the multimodal model\n",
        "    multimodal_model = create_multimodal_model( img_projection_dims=512,\n",
        "                                            text_projection_dims=128,\n",
        "                                            dropout_rate=0.2,\n",
        "                                            img_base_model_trainable=False,\n",
        "                                            text_model_trainable= False\n",
        "                                           )\n",
        "    keras.utils.plot_model(multimodal_model, show_shapes=True)\n",
        "\n",
        "    \n",
        "    multimodal_model.compile(Adamax(learning_rate=lr), loss=\"sparse_categorical_crossentropy\", metrics=\"accuracy\")\n",
        "    history = multimodal_model.fit(train_ds, validation_data=val_ds, epochs=epochs,verbose=2, initial_epoch = 0)\n",
        "\n",
        "    # Fine Tune,  making the image base_model(MobileNetV2 here) Trainable = True \n",
        "    multimodal_model.layers[2].layers[3].layers[1].trainable = True\n",
        "\n",
        "    \n",
        "    total_epochs= epochs + fine_tune_epochs\n",
        "    multimodal_model.compile(Adamax(learning_rate=lr/10), loss=\"sparse_categorical_crossentropy\", metrics=\"accuracy\")\n",
        "    history_fine = multimodal_model.fit(train_ds, validation_data=val_ds, epochs=total_epochs, verbose=2,initial_epoch=epochs)\n",
        "\n",
        "    y_pred = multimodal_model.predict(test_ds)\n",
        "    y_pred = [np.argmax(i) for i in y_pred]\n",
        "\n",
        "    y_true = []\n",
        "    for element in test_ds:\n",
        "        y_true.extend(list(element[1].numpy()))\n",
        "\n",
        "    d[\"precision\"].append(float(precision_score(y_true, y_pred, average='weighted')))\n",
        "    d[\"recall\"].append(float(recall_score(y_true, y_pred, average='weighted')))\n",
        "    d[\"f1_score\"].append(float(f1_score(y_true, y_pred, average='weighted')))\n",
        "    d['accuracy'].append(float(accuracy_score(y_true, y_pred)))\n"
      ],
      "metadata": {
        "colab": {
          "base_uri": "https://localhost:8080/"
        },
        "id": "GhOm2znV8WCq",
        "outputId": "4ec0db31-6570-40e5-b2fc-7449e066ae4f"
      },
      "execution_count": 22,
      "outputs": [
        {
          "output_type": "stream",
          "name": "stdout",
          "text": [
            "#Run:  1\n",
            "Epoch 1/2\n",
            "88/88 - 646s - loss: 6.9211 - accuracy: 0.5368 - val_loss: 3.8317 - val_accuracy: 0.6246 - 646s/epoch - 7s/step\n",
            "Epoch 2/2\n",
            "88/88 - 103s - loss: 2.9631 - accuracy: 0.6952 - val_loss: 2.4327 - val_accuracy: 0.6905 - 103s/epoch - 1s/step\n",
            "Epoch 3/4\n",
            "88/88 - 412s - loss: 2.3808 - accuracy: 0.6725 - val_loss: 2.1607 - val_accuracy: 0.7249 - 412s/epoch - 5s/step\n",
            "Epoch 4/4\n",
            "88/88 - 402s - loss: 1.9452 - accuracy: 0.7770 - val_loss: 1.9501 - val_accuracy: 0.7622 - 402s/epoch - 5s/step\n",
            "11/11 [==============================] - 72s 6s/step\n",
            "#Run:  2\n",
            "Epoch 1/2\n",
            "88/88 - 158s - loss: 7.0208 - accuracy: 0.5379 - val_loss: 3.9124 - val_accuracy: 0.6533 - 158s/epoch - 2s/step\n",
            "Epoch 2/2\n",
            "88/88 - 116s - loss: 3.0676 - accuracy: 0.6948 - val_loss: 2.4025 - val_accuracy: 0.7564 - 116s/epoch - 1s/step\n",
            "Epoch 3/4\n",
            "88/88 - 410s - loss: 2.3670 - accuracy: 0.7023 - val_loss: 2.0819 - val_accuracy: 0.7736 - 410s/epoch - 5s/step\n",
            "Epoch 4/4\n",
            "88/88 - 429s - loss: 1.9878 - accuracy: 0.7928 - val_loss: 1.8855 - val_accuracy: 0.8109 - 429s/epoch - 5s/step\n",
            "11/11 [==============================] - 18s 1s/step\n"
          ]
        }
      ]
    },
    {
      "cell_type": "code",
      "source": [
        "from google.colab import files\n",
        "print(seed)\n",
        "d['seed_value'] = seed\n",
        "result = pd.DataFrame(d, index = [\"run-\"+str(i+1) for i in range(2)])\n",
        "print(result)\n",
        "result.to_csv(\"multimodal_result_mobileNetV2_glove.csv\")\n",
        "\n",
        "files.download('multimodal_result_mobileNetV2_glove.csv')"
      ],
      "metadata": {
        "id": "ICd7LdoZ8WLb",
        "colab": {
          "base_uri": "https://localhost:8080/",
          "height": 86
        },
        "outputId": "f7356ae4-f86f-403b-906e-5de4cb14f7e6"
      },
      "execution_count": 23,
      "outputs": [
        {
          "output_type": "stream",
          "name": "stdout",
          "text": [
            "[60, 83]\n",
            "       precision    recall  f1_score  accuracy  seed_value\n",
            "run-1   0.810921  0.790230  0.785587  0.790230          60\n",
            "run-2   0.834334  0.824713  0.823515  0.824713          83\n"
          ]
        },
        {
          "output_type": "display_data",
          "data": {
            "text/plain": [
              "<IPython.core.display.Javascript object>"
            ],
            "application/javascript": [
              "\n",
              "    async function download(id, filename, size) {\n",
              "      if (!google.colab.kernel.accessAllowed) {\n",
              "        return;\n",
              "      }\n",
              "      const div = document.createElement('div');\n",
              "      const label = document.createElement('label');\n",
              "      label.textContent = `Downloading \"${filename}\": `;\n",
              "      div.appendChild(label);\n",
              "      const progress = document.createElement('progress');\n",
              "      progress.max = size;\n",
              "      div.appendChild(progress);\n",
              "      document.body.appendChild(div);\n",
              "\n",
              "      const buffers = [];\n",
              "      let downloaded = 0;\n",
              "\n",
              "      const channel = await google.colab.kernel.comms.open(id);\n",
              "      // Send a message to notify the kernel that we're ready.\n",
              "      channel.send({})\n",
              "\n",
              "      for await (const message of channel.messages) {\n",
              "        // Send a message to notify the kernel that we're ready.\n",
              "        channel.send({})\n",
              "        if (message.buffers) {\n",
              "          for (const buffer of message.buffers) {\n",
              "            buffers.push(buffer);\n",
              "            downloaded += buffer.byteLength;\n",
              "            progress.value = downloaded;\n",
              "          }\n",
              "        }\n",
              "      }\n",
              "      const blob = new Blob(buffers, {type: 'application/binary'});\n",
              "      const a = document.createElement('a');\n",
              "      a.href = window.URL.createObjectURL(blob);\n",
              "      a.download = filename;\n",
              "      div.appendChild(a);\n",
              "      a.click();\n",
              "      div.remove();\n",
              "    }\n",
              "  "
            ]
          },
          "metadata": {}
        },
        {
          "output_type": "display_data",
          "data": {
            "text/plain": [
              "<IPython.core.display.Javascript object>"
            ],
            "application/javascript": [
              "download(\"download_fd185d4e-acd0-4df9-a083-8fc74134e7ab\", \"multimodal_result_mobileNetV2_glove.csv\", 216)"
            ]
          },
          "metadata": {}
        }
      ]
    },
    {
      "cell_type": "code",
      "source": [
        ""
      ],
      "metadata": {
        "id": "vwA8O4LFJcad"
      },
      "execution_count": null,
      "outputs": []
    }
  ]
}