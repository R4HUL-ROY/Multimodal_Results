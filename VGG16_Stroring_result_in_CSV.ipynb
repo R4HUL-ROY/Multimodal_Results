{
  "nbformat": 4,
  "nbformat_minor": 0,
  "metadata": {
    "colab": {
      "name": "VGG16-Stroring_result_in_CSV.ipynb",
      "provenance": [],
      "mount_file_id": "1wm73SrNrGayNMqr1svS2AQwZTHWtInB4",
      "authorship_tag": "ABX9TyM0RLPLEum7Nes0blLZww1S",
      "include_colab_link": true
    },
    "kernelspec": {
      "name": "python3",
      "display_name": "Python 3"
    },
    "language_info": {
      "name": "python"
    },
    "accelerator": "GPU"
  },
  "cells": [
    {
      "cell_type": "markdown",
      "metadata": {
        "id": "view-in-github",
        "colab_type": "text"
      },
      "source": [
        "<a href=\"https://colab.research.google.com/github/R4HUL-ROY/Multimodal_Results/blob/main/VGG16_Stroring_result_in_CSV.ipynb\" target=\"_parent\"><img src=\"https://colab.research.google.com/assets/colab-badge.svg\" alt=\"Open In Colab\"/></a>"
      ]
    },
    {
      "cell_type": "code",
      "execution_count": 1,
      "metadata": {
        "id": "V2blbGmUKgRd"
      },
      "outputs": [],
      "source": [
        "import os\n",
        "import cv2\n",
        "import numpy as np\n",
        "import pandas as pd\n",
        "import tensorflow as tf\n",
        "from tensorflow import keras\n",
        "import pathlib\n",
        "from keras.models import Sequential\n",
        "from keras.layers import Dense, Activation, Flatten\n",
        "from tensorflow.keras.optimizers import Adam, Adamax\n",
        "from tensorflow.keras.metrics import categorical_crossentropy\n",
        "from tensorflow.keras import regularizers\n",
        "from tensorflow.keras.models import Model, load_model\n",
        "from sklearn.model_selection import train_test_split\n",
        "from sklearn.metrics import confusion_matrix, classification_report\n",
        "from tensorflow.keras.applications.vgg16 import VGG16\n",
        "from tensorflow.keras.applications.vgg16 import preprocess_input\n",
        "from keras.callbacks import ModelCheckpoint"
      ]
    },
    {
      "cell_type": "code",
      "source": [
        "data_root = pathlib.Path('/content/drive/MyDrive/Tobacco3482-jpg/')\n",
        "\n",
        "print(data_root)\n",
        "for item in data_root.iterdir():\n",
        "  print(item)"
      ],
      "metadata": {
        "colab": {
          "base_uri": "https://localhost:8080/"
        },
        "id": "CCqhGOHFKsza",
        "outputId": "f7fdebb3-4e12-4bf2-ec1e-16902f917a36"
      },
      "execution_count": 2,
      "outputs": [
        {
          "output_type": "stream",
          "name": "stdout",
          "text": [
            "/content/drive/MyDrive/Tobacco3482-jpg\n",
            "/content/drive/MyDrive/Tobacco3482-jpg/Tobacco3482-jpg\n",
            "/content/drive/MyDrive/Tobacco3482-jpg/ADVE\n",
            "/content/drive/MyDrive/Tobacco3482-jpg/Form\n",
            "/content/drive/MyDrive/Tobacco3482-jpg/Note\n",
            "/content/drive/MyDrive/Tobacco3482-jpg/Email\n",
            "/content/drive/MyDrive/Tobacco3482-jpg/News\n",
            "/content/drive/MyDrive/Tobacco3482-jpg/Resume\n",
            "/content/drive/MyDrive/Tobacco3482-jpg/Scientific\n",
            "/content/drive/MyDrive/Tobacco3482-jpg/Memo\n",
            "/content/drive/MyDrive/Tobacco3482-jpg/Report\n",
            "/content/drive/MyDrive/Tobacco3482-jpg/Letter\n"
          ]
        }
      ]
    },
    {
      "cell_type": "code",
      "source": [
        "def get_file_paths_and_labels(data_root):\n",
        "     img_paths = [str(path) for path in data_root.glob('*/*.jpg')]\n",
        "     labels = [p.split(\"/\")[-2] for p in img_paths]\n",
        "     return img_paths, labels\n",
        "\n",
        "img_paths, labels = get_file_paths_and_labels(data_root)\n",
        "# print(img_paths)\n",
        "# print(labels)\n",
        "print(len(img_paths))\n",
        "print(len(labels))"
      ],
      "metadata": {
        "colab": {
          "base_uri": "https://localhost:8080/"
        },
        "id": "hNSPqB6nKs1b",
        "outputId": "67f3f26f-d57e-41bb-b2b2-3bafe56151ca"
      },
      "execution_count": 3,
      "outputs": [
        {
          "output_type": "stream",
          "name": "stdout",
          "text": [
            "3482\n",
            "3482\n"
          ]
        }
      ]
    },
    {
      "cell_type": "code",
      "source": [
        "df = pd.DataFrame(list(zip(img_paths, labels)),\n",
        "               columns =['image_path', 'data_label'])\n",
        "df.head()"
      ],
      "metadata": {
        "colab": {
          "base_uri": "https://localhost:8080/",
          "height": 206
        },
        "id": "ymR1lLMHKs3a",
        "outputId": "fcfb18c2-5cad-4b2e-b2f3-6a6c72df6c5b"
      },
      "execution_count": 4,
      "outputs": [
        {
          "output_type": "execute_result",
          "data": {
            "text/plain": [
              "                                          image_path data_label\n",
              "0  /content/drive/MyDrive/Tobacco3482-jpg/ADVE/00...       ADVE\n",
              "1  /content/drive/MyDrive/Tobacco3482-jpg/ADVE/00...       ADVE\n",
              "2  /content/drive/MyDrive/Tobacco3482-jpg/ADVE/00...       ADVE\n",
              "3  /content/drive/MyDrive/Tobacco3482-jpg/ADVE/00...       ADVE\n",
              "4  /content/drive/MyDrive/Tobacco3482-jpg/ADVE/03...       ADVE"
            ],
            "text/html": [
              "\n",
              "  <div id=\"df-aaf47806-848c-4d4a-b85e-d2b45efe0743\">\n",
              "    <div class=\"colab-df-container\">\n",
              "      <div>\n",
              "<style scoped>\n",
              "    .dataframe tbody tr th:only-of-type {\n",
              "        vertical-align: middle;\n",
              "    }\n",
              "\n",
              "    .dataframe tbody tr th {\n",
              "        vertical-align: top;\n",
              "    }\n",
              "\n",
              "    .dataframe thead th {\n",
              "        text-align: right;\n",
              "    }\n",
              "</style>\n",
              "<table border=\"1\" class=\"dataframe\">\n",
              "  <thead>\n",
              "    <tr style=\"text-align: right;\">\n",
              "      <th></th>\n",
              "      <th>image_path</th>\n",
              "      <th>data_label</th>\n",
              "    </tr>\n",
              "  </thead>\n",
              "  <tbody>\n",
              "    <tr>\n",
              "      <th>0</th>\n",
              "      <td>/content/drive/MyDrive/Tobacco3482-jpg/ADVE/00...</td>\n",
              "      <td>ADVE</td>\n",
              "    </tr>\n",
              "    <tr>\n",
              "      <th>1</th>\n",
              "      <td>/content/drive/MyDrive/Tobacco3482-jpg/ADVE/00...</td>\n",
              "      <td>ADVE</td>\n",
              "    </tr>\n",
              "    <tr>\n",
              "      <th>2</th>\n",
              "      <td>/content/drive/MyDrive/Tobacco3482-jpg/ADVE/00...</td>\n",
              "      <td>ADVE</td>\n",
              "    </tr>\n",
              "    <tr>\n",
              "      <th>3</th>\n",
              "      <td>/content/drive/MyDrive/Tobacco3482-jpg/ADVE/00...</td>\n",
              "      <td>ADVE</td>\n",
              "    </tr>\n",
              "    <tr>\n",
              "      <th>4</th>\n",
              "      <td>/content/drive/MyDrive/Tobacco3482-jpg/ADVE/03...</td>\n",
              "      <td>ADVE</td>\n",
              "    </tr>\n",
              "  </tbody>\n",
              "</table>\n",
              "</div>\n",
              "      <button class=\"colab-df-convert\" onclick=\"convertToInteractive('df-aaf47806-848c-4d4a-b85e-d2b45efe0743')\"\n",
              "              title=\"Convert this dataframe to an interactive table.\"\n",
              "              style=\"display:none;\">\n",
              "        \n",
              "  <svg xmlns=\"http://www.w3.org/2000/svg\" height=\"24px\"viewBox=\"0 0 24 24\"\n",
              "       width=\"24px\">\n",
              "    <path d=\"M0 0h24v24H0V0z\" fill=\"none\"/>\n",
              "    <path d=\"M18.56 5.44l.94 2.06.94-2.06 2.06-.94-2.06-.94-.94-2.06-.94 2.06-2.06.94zm-11 1L8.5 8.5l.94-2.06 2.06-.94-2.06-.94L8.5 2.5l-.94 2.06-2.06.94zm10 10l.94 2.06.94-2.06 2.06-.94-2.06-.94-.94-2.06-.94 2.06-2.06.94z\"/><path d=\"M17.41 7.96l-1.37-1.37c-.4-.4-.92-.59-1.43-.59-.52 0-1.04.2-1.43.59L10.3 9.45l-7.72 7.72c-.78.78-.78 2.05 0 2.83L4 21.41c.39.39.9.59 1.41.59.51 0 1.02-.2 1.41-.59l7.78-7.78 2.81-2.81c.8-.78.8-2.07 0-2.86zM5.41 20L4 18.59l7.72-7.72 1.47 1.35L5.41 20z\"/>\n",
              "  </svg>\n",
              "      </button>\n",
              "      \n",
              "  <style>\n",
              "    .colab-df-container {\n",
              "      display:flex;\n",
              "      flex-wrap:wrap;\n",
              "      gap: 12px;\n",
              "    }\n",
              "\n",
              "    .colab-df-convert {\n",
              "      background-color: #E8F0FE;\n",
              "      border: none;\n",
              "      border-radius: 50%;\n",
              "      cursor: pointer;\n",
              "      display: none;\n",
              "      fill: #1967D2;\n",
              "      height: 32px;\n",
              "      padding: 0 0 0 0;\n",
              "      width: 32px;\n",
              "    }\n",
              "\n",
              "    .colab-df-convert:hover {\n",
              "      background-color: #E2EBFA;\n",
              "      box-shadow: 0px 1px 2px rgba(60, 64, 67, 0.3), 0px 1px 3px 1px rgba(60, 64, 67, 0.15);\n",
              "      fill: #174EA6;\n",
              "    }\n",
              "\n",
              "    [theme=dark] .colab-df-convert {\n",
              "      background-color: #3B4455;\n",
              "      fill: #D2E3FC;\n",
              "    }\n",
              "\n",
              "    [theme=dark] .colab-df-convert:hover {\n",
              "      background-color: #434B5C;\n",
              "      box-shadow: 0px 1px 3px 1px rgba(0, 0, 0, 0.15);\n",
              "      filter: drop-shadow(0px 1px 2px rgba(0, 0, 0, 0.3));\n",
              "      fill: #FFFFFF;\n",
              "    }\n",
              "  </style>\n",
              "\n",
              "      <script>\n",
              "        const buttonEl =\n",
              "          document.querySelector('#df-aaf47806-848c-4d4a-b85e-d2b45efe0743 button.colab-df-convert');\n",
              "        buttonEl.style.display =\n",
              "          google.colab.kernel.accessAllowed ? 'block' : 'none';\n",
              "\n",
              "        async function convertToInteractive(key) {\n",
              "          const element = document.querySelector('#df-aaf47806-848c-4d4a-b85e-d2b45efe0743');\n",
              "          const dataTable =\n",
              "            await google.colab.kernel.invokeFunction('convertToInteractive',\n",
              "                                                     [key], {});\n",
              "          if (!dataTable) return;\n",
              "\n",
              "          const docLinkHtml = 'Like what you see? Visit the ' +\n",
              "            '<a target=\"_blank\" href=https://colab.research.google.com/notebooks/data_table.ipynb>data table notebook</a>'\n",
              "            + ' to learn more about interactive tables.';\n",
              "          element.innerHTML = '';\n",
              "          dataTable['output_type'] = 'display_data';\n",
              "          await google.colab.output.renderOutput(dataTable, element);\n",
              "          const docLink = document.createElement('div');\n",
              "          docLink.innerHTML = docLinkHtml;\n",
              "          element.appendChild(docLink);\n",
              "        }\n",
              "      </script>\n",
              "    </div>\n",
              "  </div>\n",
              "  "
            ]
          },
          "metadata": {},
          "execution_count": 4
        }
      ]
    },
    {
      "cell_type": "code",
      "source": [
        "from sklearn import preprocessing\n",
        "le = preprocessing.LabelEncoder()\n",
        "df['data_label']= le.fit_transform(df['data_label'])\n",
        "df.head()"
      ],
      "metadata": {
        "colab": {
          "base_uri": "https://localhost:8080/",
          "height": 206
        },
        "id": "XG5Kf4mZKs5T",
        "outputId": "d3d0b601-e9ad-4477-90ce-e720d125681b"
      },
      "execution_count": 5,
      "outputs": [
        {
          "output_type": "execute_result",
          "data": {
            "text/plain": [
              "                                          image_path  data_label\n",
              "0  /content/drive/MyDrive/Tobacco3482-jpg/ADVE/00...           0\n",
              "1  /content/drive/MyDrive/Tobacco3482-jpg/ADVE/00...           0\n",
              "2  /content/drive/MyDrive/Tobacco3482-jpg/ADVE/00...           0\n",
              "3  /content/drive/MyDrive/Tobacco3482-jpg/ADVE/00...           0\n",
              "4  /content/drive/MyDrive/Tobacco3482-jpg/ADVE/03...           0"
            ],
            "text/html": [
              "\n",
              "  <div id=\"df-addb0751-a7ab-4917-b390-26fc752ed289\">\n",
              "    <div class=\"colab-df-container\">\n",
              "      <div>\n",
              "<style scoped>\n",
              "    .dataframe tbody tr th:only-of-type {\n",
              "        vertical-align: middle;\n",
              "    }\n",
              "\n",
              "    .dataframe tbody tr th {\n",
              "        vertical-align: top;\n",
              "    }\n",
              "\n",
              "    .dataframe thead th {\n",
              "        text-align: right;\n",
              "    }\n",
              "</style>\n",
              "<table border=\"1\" class=\"dataframe\">\n",
              "  <thead>\n",
              "    <tr style=\"text-align: right;\">\n",
              "      <th></th>\n",
              "      <th>image_path</th>\n",
              "      <th>data_label</th>\n",
              "    </tr>\n",
              "  </thead>\n",
              "  <tbody>\n",
              "    <tr>\n",
              "      <th>0</th>\n",
              "      <td>/content/drive/MyDrive/Tobacco3482-jpg/ADVE/00...</td>\n",
              "      <td>0</td>\n",
              "    </tr>\n",
              "    <tr>\n",
              "      <th>1</th>\n",
              "      <td>/content/drive/MyDrive/Tobacco3482-jpg/ADVE/00...</td>\n",
              "      <td>0</td>\n",
              "    </tr>\n",
              "    <tr>\n",
              "      <th>2</th>\n",
              "      <td>/content/drive/MyDrive/Tobacco3482-jpg/ADVE/00...</td>\n",
              "      <td>0</td>\n",
              "    </tr>\n",
              "    <tr>\n",
              "      <th>3</th>\n",
              "      <td>/content/drive/MyDrive/Tobacco3482-jpg/ADVE/00...</td>\n",
              "      <td>0</td>\n",
              "    </tr>\n",
              "    <tr>\n",
              "      <th>4</th>\n",
              "      <td>/content/drive/MyDrive/Tobacco3482-jpg/ADVE/03...</td>\n",
              "      <td>0</td>\n",
              "    </tr>\n",
              "  </tbody>\n",
              "</table>\n",
              "</div>\n",
              "      <button class=\"colab-df-convert\" onclick=\"convertToInteractive('df-addb0751-a7ab-4917-b390-26fc752ed289')\"\n",
              "              title=\"Convert this dataframe to an interactive table.\"\n",
              "              style=\"display:none;\">\n",
              "        \n",
              "  <svg xmlns=\"http://www.w3.org/2000/svg\" height=\"24px\"viewBox=\"0 0 24 24\"\n",
              "       width=\"24px\">\n",
              "    <path d=\"M0 0h24v24H0V0z\" fill=\"none\"/>\n",
              "    <path d=\"M18.56 5.44l.94 2.06.94-2.06 2.06-.94-2.06-.94-.94-2.06-.94 2.06-2.06.94zm-11 1L8.5 8.5l.94-2.06 2.06-.94-2.06-.94L8.5 2.5l-.94 2.06-2.06.94zm10 10l.94 2.06.94-2.06 2.06-.94-2.06-.94-.94-2.06-.94 2.06-2.06.94z\"/><path d=\"M17.41 7.96l-1.37-1.37c-.4-.4-.92-.59-1.43-.59-.52 0-1.04.2-1.43.59L10.3 9.45l-7.72 7.72c-.78.78-.78 2.05 0 2.83L4 21.41c.39.39.9.59 1.41.59.51 0 1.02-.2 1.41-.59l7.78-7.78 2.81-2.81c.8-.78.8-2.07 0-2.86zM5.41 20L4 18.59l7.72-7.72 1.47 1.35L5.41 20z\"/>\n",
              "  </svg>\n",
              "      </button>\n",
              "      \n",
              "  <style>\n",
              "    .colab-df-container {\n",
              "      display:flex;\n",
              "      flex-wrap:wrap;\n",
              "      gap: 12px;\n",
              "    }\n",
              "\n",
              "    .colab-df-convert {\n",
              "      background-color: #E8F0FE;\n",
              "      border: none;\n",
              "      border-radius: 50%;\n",
              "      cursor: pointer;\n",
              "      display: none;\n",
              "      fill: #1967D2;\n",
              "      height: 32px;\n",
              "      padding: 0 0 0 0;\n",
              "      width: 32px;\n",
              "    }\n",
              "\n",
              "    .colab-df-convert:hover {\n",
              "      background-color: #E2EBFA;\n",
              "      box-shadow: 0px 1px 2px rgba(60, 64, 67, 0.3), 0px 1px 3px 1px rgba(60, 64, 67, 0.15);\n",
              "      fill: #174EA6;\n",
              "    }\n",
              "\n",
              "    [theme=dark] .colab-df-convert {\n",
              "      background-color: #3B4455;\n",
              "      fill: #D2E3FC;\n",
              "    }\n",
              "\n",
              "    [theme=dark] .colab-df-convert:hover {\n",
              "      background-color: #434B5C;\n",
              "      box-shadow: 0px 1px 3px 1px rgba(0, 0, 0, 0.15);\n",
              "      filter: drop-shadow(0px 1px 2px rgba(0, 0, 0, 0.3));\n",
              "      fill: #FFFFFF;\n",
              "    }\n",
              "  </style>\n",
              "\n",
              "      <script>\n",
              "        const buttonEl =\n",
              "          document.querySelector('#df-addb0751-a7ab-4917-b390-26fc752ed289 button.colab-df-convert');\n",
              "        buttonEl.style.display =\n",
              "          google.colab.kernel.accessAllowed ? 'block' : 'none';\n",
              "\n",
              "        async function convertToInteractive(key) {\n",
              "          const element = document.querySelector('#df-addb0751-a7ab-4917-b390-26fc752ed289');\n",
              "          const dataTable =\n",
              "            await google.colab.kernel.invokeFunction('convertToInteractive',\n",
              "                                                     [key], {});\n",
              "          if (!dataTable) return;\n",
              "\n",
              "          const docLinkHtml = 'Like what you see? Visit the ' +\n",
              "            '<a target=\"_blank\" href=https://colab.research.google.com/notebooks/data_table.ipynb>data table notebook</a>'\n",
              "            + ' to learn more about interactive tables.';\n",
              "          element.innerHTML = '';\n",
              "          dataTable['output_type'] = 'display_data';\n",
              "          await google.colab.output.renderOutput(dataTable, element);\n",
              "          const docLink = document.createElement('div');\n",
              "          docLink.innerHTML = docLinkHtml;\n",
              "          element.appendChild(docLink);\n",
              "        }\n",
              "      </script>\n",
              "    </div>\n",
              "  </div>\n",
              "  "
            ]
          },
          "metadata": {},
          "execution_count": 5
        }
      ]
    },
    {
      "cell_type": "code",
      "source": [
        "df['data_label'] = [str(i) for i in df['data_label']]"
      ],
      "metadata": {
        "id": "1hFc-vixhgIE"
      },
      "execution_count": 14,
      "outputs": []
    },
    {
      "cell_type": "code",
      "source": [
        "labels_dict = {}\n",
        "for idx, this_path in enumerate(df['image_path']):\n",
        "    labels_dict[this_path.split(\"/\")[-2]] = df['data_label'][idx]\n",
        "    \n",
        "print(labels_dict)"
      ],
      "metadata": {
        "colab": {
          "base_uri": "https://localhost:8080/"
        },
        "id": "BBqN0_FEKs8s",
        "outputId": "6d9fdf2f-8873-40da-8bb5-5f140e355f15"
      },
      "execution_count": 15,
      "outputs": [
        {
          "output_type": "stream",
          "name": "stdout",
          "text": [
            "{'ADVE': '0', 'Form': '2', 'Note': '6', 'Email': '1', 'News': '5', 'Resume': '8', 'Scientific': '9', 'Memo': '4', 'Report': '7', 'Letter': '3'}\n"
          ]
        }
      ]
    },
    {
      "cell_type": "code",
      "source": [
        "balance=df['data_label'].value_counts()\n",
        "print (balance)"
      ],
      "metadata": {
        "colab": {
          "base_uri": "https://localhost:8080/"
        },
        "id": "-hkGjXO4Ks-i",
        "outputId": "988f0958-c245-478e-a476-73c5f1535938"
      },
      "execution_count": 16,
      "outputs": [
        {
          "output_type": "stream",
          "name": "stdout",
          "text": [
            "4    620\n",
            "1    599\n",
            "3    567\n",
            "2    431\n",
            "7    265\n",
            "9    261\n",
            "0    230\n",
            "6    201\n",
            "5    188\n",
            "8    120\n",
            "Name: data_label, dtype: int64\n"
          ]
        }
      ]
    },
    {
      "cell_type": "code",
      "source": [
        "from sklearn.metrics import classification_report, confusion_matrix\n",
        "from sklearn.metrics import precision_score, recall_score, f1_score, accuracy_score\n",
        "import random\n",
        "random.seed(56)"
      ],
      "metadata": {
        "id": "ebY3sIWEgX5e"
      },
      "execution_count": 17,
      "outputs": []
    },
    {
      "cell_type": "code",
      "source": [
        "batch_size=32\n",
        "epochs = 2\n",
        "fine_tune_epochs = 2\n",
        "def scalar(x):\n",
        "    return x/127.5-1\n",
        "\n",
        "d = {\n",
        "    \"precision\" : [],\n",
        "     \"recall\" : [],\n",
        "     \"f1_score\" : [],\n",
        "     \"accuracy\" : [],\n",
        "     \"seed_value\" : []\n",
        "}\n",
        "seed = []\n",
        "\n",
        "\n",
        "for i in range(2):\n",
        "    print('#Run: ', i+1)\n",
        "    sd = random.randint(0, 100)\n",
        "    seed.append(sd)\n",
        "\n",
        "    train_df, dummy_df=train_test_split(df, test_size=0.3, shuffle=True, random_state = sd)\n",
        "    test_df, valid_df= train_test_split(dummy_df, test_size=0.5, shuffle=True, random_state = sd)\n",
        "    length=len(test_df)\n",
        "\n",
        "    ######## Keras datagenerator #########\n",
        "    trgen=tf.keras.preprocessing.image.ImageDataGenerator(preprocessing_function=scalar)\n",
        "    train_gen=trgen.flow_from_dataframe(train_df, x_col='image_path', y_col='data_label', target_size=(224,224), \n",
        "                                        class_mode='categorical',batch_size=batch_size, shuffle=True, seed=sd)\n",
        "\n",
        "    tvgen=tf.keras.preprocessing.image.ImageDataGenerator(preprocessing_function=scalar)\n",
        "    valid_gen=tvgen.flow_from_dataframe(valid_df, x_col='image_path', y_col='data_label', target_size=(224,224), \n",
        "                                        class_mode='categorical',batch_size=batch_size, shuffle=False, seed=sd)\n",
        "\n",
        "    # determine test generator batch size and steps to go through the test set exactly once for predictions\n",
        "    test_batch_size=sorted([int(length/n) for n in range(1,length+1) if length % n ==0 and length/n<=batch_size],reverse=True)[0]  \n",
        "    test_steps=int(length/test_batch_size)\n",
        "\n",
        "    ttgen=tf.keras.preprocessing.image.ImageDataGenerator(preprocessing_function=scalar)\n",
        "    test_gen=ttgen.flow_from_dataframe(test_df, x_col='image_path', y_col='data_label', target_size=(224,224), \n",
        "                                    class_mode='categorical',batch_size=test_batch_size, shuffle=False, seed=sd)\n",
        "\n",
        "    test_labels=test_gen.labels\n",
        "\n",
        "    img_shape=(224,224,3)\n",
        "    class_count = 10\n",
        "    dropout=0.2\n",
        "    lr= 0.001\n",
        "\n",
        "    base_model= VGG16(include_top=False,\n",
        "                   input_shape=(224,224,3),\n",
        "                   pooling='avg',classes=10,\n",
        "                   weights='imagenet')\n",
        "\n",
        "    base_model.trainable= False\n",
        "\n",
        "    inputs = keras.Input(shape=img_shape)\n",
        "    x = base_model(inputs, training=False)\n",
        "\n",
        "    # x=tf.keras.layers.Dropout(rate=dropout, seed=seed_value)(x)\n",
        "    x =tf.keras.layers.Dense(512, kernel_regularizer = regularizers.l2(l = 0.016),activity_regularizer=regularizers.l1(0.006), \n",
        "                            bias_regularizer=regularizers.l1(0.006) ,activation='relu', kernel_initializer= tf.keras.initializers.GlorotUniform(seed=sd))(x)\n",
        "    # x=tf.keras.layers.Dropout(rate=dropout, seed=seed_value)(x)\n",
        "    outputs=tf.keras.layers.Dense(class_count, activation='softmax',kernel_initializer=tf.keras.initializers.GlorotUniform(seed=sd))(x)\n",
        "    model=Model(inputs, outputs)\n",
        "\n",
        "    model.compile(Adamax(learning_rate=lr), loss='categorical_crossentropy', metrics=['accuracy']) \n",
        "\n",
        "    checkpoint = ModelCheckpoint(\"/model-{epoch:03d}-{accuracy:03f}-{val_accuracy:03f}.h5\", verbose=1, monitor='val_loss',save_best_only=True, mode='auto') \n",
        "\n",
        "    history=model.fit(x=train_gen,  epochs=epochs, verbose=2, validation_data=valid_gen, callbacks=[checkpoint],\n",
        "                validation_steps=None,  shuffle=False,  initial_epoch=0)\n",
        "    \n",
        "\n",
        "    ####### Fine-Tune ######\n",
        "    base_model.trainable=True\n",
        "    tune_epochs = fine_tune_epochs\n",
        "    total_epochs= epochs + tune_epochs\n",
        "\n",
        "    model.compile(Adamax(learning_rate=lr/100), loss='categorical_crossentropy', metrics=['accuracy'])\n",
        "    \n",
        "    history_fine = model.fit(x=train_gen,  epochs=total_epochs, verbose=2, validation_data=valid_gen,\n",
        "               validation_steps=None,  shuffle=False,  initial_epoch=epochs)\n",
        "    \n",
        "\n",
        "    y_pred = model.predict(test_gen)\n",
        "    y_pred = np.argmax(y_pred, axis=1)\n",
        "\n",
        "    y_true = test_gen.classes\n",
        "\n",
        "    d[\"precision\"].append(float(precision_score(y_true, y_pred, average='weighted')))\n",
        "    d[\"recall\"].append(float(recall_score(y_true, y_pred, average='weighted')))\n",
        "    d[\"f1_score\"].append(float(f1_score(y_true, y_pred, average='weighted')))\n",
        "    d['accuracy'].append(float(accuracy_score(y_true, y_pred)))"
      ],
      "metadata": {
        "colab": {
          "base_uri": "https://localhost:8080/"
        },
        "id": "Rki94QBiKtDn",
        "outputId": "e7d5c37a-6729-4b30-d2f9-2015e3bf4fa8"
      },
      "execution_count": 18,
      "outputs": [
        {
          "output_type": "stream",
          "name": "stdout",
          "text": [
            "#Run:  1\n",
            "Found 2437 validated image filenames belonging to 10 classes.\n",
            "Found 523 validated image filenames belonging to 10 classes.\n",
            "Found 522 validated image filenames belonging to 10 classes.\n",
            "Downloading data from https://storage.googleapis.com/tensorflow/keras-applications/vgg16/vgg16_weights_tf_dim_ordering_tf_kernels_notop.h5\n",
            "58892288/58889256 [==============================] - 0s 0us/step\n",
            "58900480/58889256 [==============================] - 0s 0us/step\n",
            "Epoch 1/2\n",
            "\n",
            "Epoch 1: val_loss improved from inf to 2.97558, saving model to /model-001-0.360279-0.481836.h5\n",
            "77/77 - 964s - loss: 5.4579 - accuracy: 0.3603 - val_loss: 2.9756 - val_accuracy: 0.4818 - 964s/epoch - 13s/step\n",
            "Epoch 2/2\n",
            "\n",
            "Epoch 2: val_loss improved from 2.97558 to 2.22831, saving model to /model-002-0.480098-0.508604.h5\n",
            "77/77 - 77s - loss: 2.5034 - accuracy: 0.4801 - val_loss: 2.2283 - val_accuracy: 0.5086 - 77s/epoch - 1s/step\n",
            "Epoch 3/4\n",
            "77/77 - 91s - loss: 2.0713 - accuracy: 0.5433 - val_loss: 1.9890 - val_accuracy: 0.5851 - 91s/epoch - 1s/step\n",
            "Epoch 4/4\n",
            "77/77 - 84s - loss: 1.9364 - accuracy: 0.6016 - val_loss: 1.9044 - val_accuracy: 0.6310 - 84s/epoch - 1s/step\n"
          ]
        },
        {
          "output_type": "stream",
          "name": "stderr",
          "text": [
            "/usr/local/lib/python3.7/dist-packages/sklearn/metrics/_classification.py:1318: UndefinedMetricWarning: Precision is ill-defined and being set to 0.0 in labels with no predicted samples. Use `zero_division` parameter to control this behavior.\n",
            "  _warn_prf(average, modifier, msg_start, len(result))\n"
          ]
        },
        {
          "output_type": "stream",
          "name": "stdout",
          "text": [
            "#Run:  2\n",
            "Found 2437 validated image filenames belonging to 10 classes.\n",
            "Found 523 validated image filenames belonging to 10 classes.\n",
            "Found 522 validated image filenames belonging to 10 classes.\n",
            "Epoch 1/2\n",
            "\n",
            "Epoch 1: val_loss improved from inf to 2.96767, saving model to /model-001-0.374641-0.500956.h5\n",
            "77/77 - 77s - loss: 5.4411 - accuracy: 0.3746 - val_loss: 2.9677 - val_accuracy: 0.5010 - 77s/epoch - 998ms/step\n",
            "Epoch 2/2\n",
            "\n",
            "Epoch 2: val_loss improved from 2.96767 to 2.18337, saving model to /model-002-0.516619-0.518164.h5\n",
            "77/77 - 74s - loss: 2.4966 - accuracy: 0.5166 - val_loss: 2.1834 - val_accuracy: 0.5182 - 74s/epoch - 966ms/step\n",
            "Epoch 3/4\n",
            "77/77 - 85s - loss: 2.0367 - accuracy: 0.5659 - val_loss: 1.9172 - val_accuracy: 0.6214 - 85s/epoch - 1s/step\n",
            "Epoch 4/4\n",
            "77/77 - 84s - loss: 1.9062 - accuracy: 0.6262 - val_loss: 1.8417 - val_accuracy: 0.6272 - 84s/epoch - 1s/step\n"
          ]
        },
        {
          "output_type": "stream",
          "name": "stderr",
          "text": [
            "/usr/local/lib/python3.7/dist-packages/sklearn/metrics/_classification.py:1318: UndefinedMetricWarning: Precision is ill-defined and being set to 0.0 in labels with no predicted samples. Use `zero_division` parameter to control this behavior.\n",
            "  _warn_prf(average, modifier, msg_start, len(result))\n"
          ]
        }
      ]
    },
    {
      "cell_type": "code",
      "source": [
        "from google.colab import files\n",
        "print(seed)\n",
        "d['seed_value'] = seed\n",
        "result = pd.DataFrame(d, index = [\"run-\"+str(i+1) for i in range(2)])\n",
        "print(result)\n",
        "result.to_csv(\"VGG16_result.csv\")\n",
        "\n",
        "# files.download('VGG16_result.csv')"
      ],
      "metadata": {
        "colab": {
          "base_uri": "https://localhost:8080/"
        },
        "id": "LdEe0xRiKtG1",
        "outputId": "1447e4f3-56c9-4127-cd59-742d8c3c708e"
      },
      "execution_count": 19,
      "outputs": [
        {
          "output_type": "stream",
          "name": "stdout",
          "text": [
            "[71, 1]\n",
            "       precision    recall  f1_score  accuracy  seed_value\n",
            "run-1   0.576105  0.616858  0.564930  0.616858          71\n",
            "run-2   0.537816  0.593870  0.529264  0.593870           1\n"
          ]
        }
      ]
    },
    {
      "cell_type": "code",
      "source": [
        ""
      ],
      "metadata": {
        "id": "UMXvm6-YKtJ6"
      },
      "execution_count": null,
      "outputs": []
    },
    {
      "cell_type": "code",
      "source": [
        ""
      ],
      "metadata": {
        "id": "t6gq1jBsKtMR"
      },
      "execution_count": null,
      "outputs": []
    },
    {
      "cell_type": "code",
      "source": [
        ""
      ],
      "metadata": {
        "id": "0M-sMHfCKtOl"
      },
      "execution_count": null,
      "outputs": []
    },
    {
      "cell_type": "code",
      "source": [
        ""
      ],
      "metadata": {
        "id": "RdussT6RKtRB"
      },
      "execution_count": null,
      "outputs": []
    },
    {
      "cell_type": "code",
      "source": [
        ""
      ],
      "metadata": {
        "id": "SlBrH_uSKtTQ"
      },
      "execution_count": null,
      "outputs": []
    }
  ]
}