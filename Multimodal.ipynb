{
  "nbformat": 4,
  "nbformat_minor": 0,
  "metadata": {
    "colab": {
      "name": "Multimodal.ipynb",
      "provenance": [],
      "collapsed_sections": [],
      "mount_file_id": "1x6_cP5LupRYKPcrpBbUdgIINKmIOuoZ0",
      "authorship_tag": "ABX9TyPn/s+Xk59HWyM8y5lM/4qQ",
      "include_colab_link": true
    },
    "kernelspec": {
      "name": "python3",
      "display_name": "Python 3"
    },
    "language_info": {
      "name": "python"
    },
    "accelerator": "GPU"
  },
  "cells": [
    {
      "cell_type": "markdown",
      "metadata": {
        "id": "view-in-github",
        "colab_type": "text"
      },
      "source": [
        "<a href=\"https://colab.research.google.com/github/R4HUL-ROY/Multimodal_Results/blob/main/Multimodal.ipynb\" target=\"_parent\"><img src=\"https://colab.research.google.com/assets/colab-badge.svg\" alt=\"Open In Colab\"/></a>"
      ]
    },
    {
      "cell_type": "code",
      "execution_count": 1,
      "metadata": {
        "colab": {
          "base_uri": "https://localhost:8080/"
        },
        "id": "X-snMEQ4G0Ke",
        "outputId": "843d5fea-3b9e-4457-fa90-7029bd87b615"
      },
      "outputs": [
        {
          "output_type": "stream",
          "name": "stdout",
          "text": [
            "Looking in indexes: https://pypi.org/simple, https://us-python.pkg.dev/colab-wheels/public/simple/\n",
            "Collecting tensorflow==2.8\n",
            "  Downloading https://us-python.pkg.dev/colab-wheels/public/tensorflow/tensorflow-2.8.0%2Bzzzcolab20220506162203-cp37-cp37m-linux_x86_64.whl\n",
            "\u001b[K     - 668.3 MB 11.2 MB/s\n",
            "\u001b[?25hRequirement already satisfied: setuptools in /usr/local/lib/python3.7/dist-packages (from tensorflow==2.8) (57.4.0)\n",
            "Requirement already satisfied: keras-preprocessing>=1.1.1 in /usr/local/lib/python3.7/dist-packages (from tensorflow==2.8) (1.1.2)\n",
            "Requirement already satisfied: h5py>=2.9.0 in /usr/local/lib/python3.7/dist-packages (from tensorflow==2.8) (3.1.0)\n",
            "Requirement already satisfied: opt-einsum>=2.3.2 in /usr/local/lib/python3.7/dist-packages (from tensorflow==2.8) (3.3.0)\n",
            "Requirement already satisfied: wrapt>=1.11.0 in /usr/local/lib/python3.7/dist-packages (from tensorflow==2.8) (1.14.1)\n",
            "Collecting tf-estimator-nightly==2.8.0.dev2021122109\n",
            "  Downloading tf_estimator_nightly-2.8.0.dev2021122109-py2.py3-none-any.whl (462 kB)\n",
            "\u001b[K     |████████████████████████████████| 462 kB 8.8 MB/s \n",
            "\u001b[?25hRequirement already satisfied: grpcio<2.0,>=1.24.3 in /usr/local/lib/python3.7/dist-packages (from tensorflow==2.8) (1.46.3)\n",
            "Requirement already satisfied: google-pasta>=0.1.1 in /usr/local/lib/python3.7/dist-packages (from tensorflow==2.8) (0.2.0)\n",
            "Requirement already satisfied: termcolor>=1.1.0 in /usr/local/lib/python3.7/dist-packages (from tensorflow==2.8) (1.1.0)\n",
            "Requirement already satisfied: keras<2.9,>=2.8.0rc0 in /usr/local/lib/python3.7/dist-packages (from tensorflow==2.8) (2.8.0)\n",
            "Requirement already satisfied: astunparse>=1.6.0 in /usr/local/lib/python3.7/dist-packages (from tensorflow==2.8) (1.6.3)\n",
            "Requirement already satisfied: protobuf>=3.9.2 in /usr/local/lib/python3.7/dist-packages (from tensorflow==2.8) (3.17.3)\n",
            "Requirement already satisfied: typing-extensions>=3.6.6 in /usr/local/lib/python3.7/dist-packages (from tensorflow==2.8) (4.2.0)\n",
            "Requirement already satisfied: six>=1.12.0 in /usr/local/lib/python3.7/dist-packages (from tensorflow==2.8) (1.15.0)\n",
            "Requirement already satisfied: absl-py>=0.4.0 in /usr/local/lib/python3.7/dist-packages (from tensorflow==2.8) (1.0.0)\n",
            "Requirement already satisfied: libclang>=9.0.1 in /usr/local/lib/python3.7/dist-packages (from tensorflow==2.8) (14.0.1)\n",
            "Requirement already satisfied: numpy>=1.20 in /usr/local/lib/python3.7/dist-packages (from tensorflow==2.8) (1.21.6)\n",
            "Requirement already satisfied: gast>=0.2.1 in /usr/local/lib/python3.7/dist-packages (from tensorflow==2.8) (0.5.3)\n",
            "Requirement already satisfied: flatbuffers>=1.12 in /usr/local/lib/python3.7/dist-packages (from tensorflow==2.8) (2.0)\n",
            "Requirement already satisfied: tensorflow-io-gcs-filesystem>=0.23.1 in /usr/local/lib/python3.7/dist-packages (from tensorflow==2.8) (0.26.0)\n",
            "Requirement already satisfied: tensorboard<2.9,>=2.8 in /usr/local/lib/python3.7/dist-packages (from tensorflow==2.8) (2.8.0)\n",
            "Requirement already satisfied: wheel<1.0,>=0.23.0 in /usr/local/lib/python3.7/dist-packages (from astunparse>=1.6.0->tensorflow==2.8) (0.37.1)\n",
            "Requirement already satisfied: cached-property in /usr/local/lib/python3.7/dist-packages (from h5py>=2.9.0->tensorflow==2.8) (1.5.2)\n",
            "Requirement already satisfied: requests<3,>=2.21.0 in /usr/local/lib/python3.7/dist-packages (from tensorboard<2.9,>=2.8->tensorflow==2.8) (2.23.0)\n",
            "Requirement already satisfied: google-auth<3,>=1.6.3 in /usr/local/lib/python3.7/dist-packages (from tensorboard<2.9,>=2.8->tensorflow==2.8) (1.35.0)\n",
            "Requirement already satisfied: markdown>=2.6.8 in /usr/local/lib/python3.7/dist-packages (from tensorboard<2.9,>=2.8->tensorflow==2.8) (3.3.7)\n",
            "Requirement already satisfied: google-auth-oauthlib<0.5,>=0.4.1 in /usr/local/lib/python3.7/dist-packages (from tensorboard<2.9,>=2.8->tensorflow==2.8) (0.4.6)\n",
            "Requirement already satisfied: tensorboard-data-server<0.7.0,>=0.6.0 in /usr/local/lib/python3.7/dist-packages (from tensorboard<2.9,>=2.8->tensorflow==2.8) (0.6.1)\n",
            "Requirement already satisfied: tensorboard-plugin-wit>=1.6.0 in /usr/local/lib/python3.7/dist-packages (from tensorboard<2.9,>=2.8->tensorflow==2.8) (1.8.1)\n",
            "Requirement already satisfied: werkzeug>=0.11.15 in /usr/local/lib/python3.7/dist-packages (from tensorboard<2.9,>=2.8->tensorflow==2.8) (1.0.1)\n",
            "Requirement already satisfied: pyasn1-modules>=0.2.1 in /usr/local/lib/python3.7/dist-packages (from google-auth<3,>=1.6.3->tensorboard<2.9,>=2.8->tensorflow==2.8) (0.2.8)\n",
            "Requirement already satisfied: cachetools<5.0,>=2.0.0 in /usr/local/lib/python3.7/dist-packages (from google-auth<3,>=1.6.3->tensorboard<2.9,>=2.8->tensorflow==2.8) (4.2.4)\n",
            "Requirement already satisfied: rsa<5,>=3.1.4 in /usr/local/lib/python3.7/dist-packages (from google-auth<3,>=1.6.3->tensorboard<2.9,>=2.8->tensorflow==2.8) (4.8)\n",
            "Requirement already satisfied: requests-oauthlib>=0.7.0 in /usr/local/lib/python3.7/dist-packages (from google-auth-oauthlib<0.5,>=0.4.1->tensorboard<2.9,>=2.8->tensorflow==2.8) (1.3.1)\n",
            "Requirement already satisfied: importlib-metadata>=4.4 in /usr/local/lib/python3.7/dist-packages (from markdown>=2.6.8->tensorboard<2.9,>=2.8->tensorflow==2.8) (4.11.4)\n",
            "Requirement already satisfied: zipp>=0.5 in /usr/local/lib/python3.7/dist-packages (from importlib-metadata>=4.4->markdown>=2.6.8->tensorboard<2.9,>=2.8->tensorflow==2.8) (3.8.0)\n",
            "Requirement already satisfied: pyasn1<0.5.0,>=0.4.6 in /usr/local/lib/python3.7/dist-packages (from pyasn1-modules>=0.2.1->google-auth<3,>=1.6.3->tensorboard<2.9,>=2.8->tensorflow==2.8) (0.4.8)\n",
            "Requirement already satisfied: idna<3,>=2.5 in /usr/local/lib/python3.7/dist-packages (from requests<3,>=2.21.0->tensorboard<2.9,>=2.8->tensorflow==2.8) (2.10)\n",
            "Requirement already satisfied: urllib3!=1.25.0,!=1.25.1,<1.26,>=1.21.1 in /usr/local/lib/python3.7/dist-packages (from requests<3,>=2.21.0->tensorboard<2.9,>=2.8->tensorflow==2.8) (1.24.3)\n",
            "Requirement already satisfied: certifi>=2017.4.17 in /usr/local/lib/python3.7/dist-packages (from requests<3,>=2.21.0->tensorboard<2.9,>=2.8->tensorflow==2.8) (2022.5.18.1)\n",
            "Requirement already satisfied: chardet<4,>=3.0.2 in /usr/local/lib/python3.7/dist-packages (from requests<3,>=2.21.0->tensorboard<2.9,>=2.8->tensorflow==2.8) (3.0.4)\n",
            "Requirement already satisfied: oauthlib>=3.0.0 in /usr/local/lib/python3.7/dist-packages (from requests-oauthlib>=0.7.0->google-auth-oauthlib<0.5,>=0.4.1->tensorboard<2.9,>=2.8->tensorflow==2.8) (3.2.0)\n",
            "Installing collected packages: tf-estimator-nightly, tensorflow\n",
            "  Attempting uninstall: tensorflow\n",
            "    Found existing installation: tensorflow 2.8.2+zzzcolab20220527125636\n",
            "    Uninstalling tensorflow-2.8.2+zzzcolab20220527125636:\n",
            "      Successfully uninstalled tensorflow-2.8.2+zzzcolab20220527125636\n",
            "Successfully installed tensorflow-2.8.0+zzzcolab20220506162203 tf-estimator-nightly-2.8.0.dev2021122109\n",
            "Reading package lists... Done\n",
            "Building dependency tree       \n",
            "Reading state information... Done\n",
            "The following package was automatically installed and is no longer required:\n",
            "  libnvidia-common-460\n",
            "Use 'apt autoremove' to remove it.\n",
            "The following packages will be REMOVED:\n",
            "  libcudnn8-dev\n",
            "The following held packages will be changed:\n",
            "  libcudnn8\n",
            "The following packages will be upgraded:\n",
            "  libcudnn8\n",
            "1 upgraded, 0 newly installed, 1 to remove and 43 not upgraded.\n",
            "Need to get 430 MB of archives.\n",
            "After this operation, 3,139 MB disk space will be freed.\n",
            "Get:1 https://developer.download.nvidia.com/compute/cuda/repos/ubuntu1804/x86_64  libcudnn8 8.1.0.77-1+cuda11.2 [430 MB]\n",
            "Fetched 430 MB in 7s (62.5 MB/s)\n",
            "(Reading database ... 155632 files and directories currently installed.)\n",
            "Removing libcudnn8-dev (8.0.5.39-1+cuda11.1) ...\n",
            "(Reading database ... 155610 files and directories currently installed.)\n",
            "Preparing to unpack .../libcudnn8_8.1.0.77-1+cuda11.2_amd64.deb ...\n",
            "Unpacking libcudnn8 (8.1.0.77-1+cuda11.2) over (8.0.5.39-1+cuda11.1) ...\n",
            "Setting up libcudnn8 (8.1.0.77-1+cuda11.2) ...\n"
          ]
        }
      ],
      "source": [
        "!pip install tensorflow==2.8\n",
        "!apt install --allow-change-held-packages libcudnn8=8.1.0.77-1+cuda11.2"
      ]
    },
    {
      "cell_type": "code",
      "source": [
        "# !pip install -q tensorflow_text\n",
        "!pip install fasttext\n",
        "from sklearn.model_selection import train_test_split\n",
        "import matplotlib.pyplot as plt\n",
        "import pandas as pd\n",
        "import numpy as np\n",
        "import os\n",
        "import pathlib\n",
        "import tensorflow as tf\n",
        "import fasttext.util\n",
        "\n",
        "# import tensorflow_hub as hub\n",
        "# import tensorflow_text as text\n",
        "from tensorflow import keras\n",
        "from tensorflow.keras import regularizers\n",
        "from tensorflow.keras.models import Model, load_model\n",
        "from tensorflow.keras.optimizers import Adam, Adamax"
      ],
      "metadata": {
        "colab": {
          "base_uri": "https://localhost:8080/"
        },
        "id": "7Ch6N2R2G7uX",
        "outputId": "dfc4f680-2b6e-4f5c-9c45-16b39fcfb772"
      },
      "execution_count": 2,
      "outputs": [
        {
          "output_type": "stream",
          "name": "stdout",
          "text": [
            "Looking in indexes: https://pypi.org/simple, https://us-python.pkg.dev/colab-wheels/public/simple/\n",
            "Collecting fasttext\n",
            "  Downloading fasttext-0.9.2.tar.gz (68 kB)\n",
            "\u001b[K     |████████████████████████████████| 68 kB 3.2 MB/s \n",
            "\u001b[?25hCollecting pybind11>=2.2\n",
            "  Using cached pybind11-2.9.2-py2.py3-none-any.whl (213 kB)\n",
            "Requirement already satisfied: setuptools>=0.7.0 in /usr/local/lib/python3.7/dist-packages (from fasttext) (57.4.0)\n",
            "Requirement already satisfied: numpy in /usr/local/lib/python3.7/dist-packages (from fasttext) (1.21.6)\n",
            "Building wheels for collected packages: fasttext\n",
            "  Building wheel for fasttext (setup.py) ... \u001b[?25l\u001b[?25hdone\n",
            "  Created wheel for fasttext: filename=fasttext-0.9.2-cp37-cp37m-linux_x86_64.whl size=3145252 sha256=67504caf4084486f2249c13c7631d2210dd60dd8a0e70f409db848e3ab1157b3\n",
            "  Stored in directory: /root/.cache/pip/wheels/4e/ca/bf/b020d2be95f7641801a6597a29c8f4f19e38f9c02a345bab9b\n",
            "Successfully built fasttext\n",
            "Installing collected packages: pybind11, fasttext\n",
            "Successfully installed fasttext-0.9.2 pybind11-2.9.2\n"
          ]
        }
      ]
    },
    {
      "cell_type": "code",
      "source": [
        "merged_dataset_path = \"/content/drive/MyDrive/project_resources/merged_data_for_multimodal_model.csv\"\n",
        "stopwords_path = \"/content/drive/MyDrive/project_resources/stopwords.txt\"\n",
        "glove_vector_path = '/content/drive/MyDrive/project_resources/glove.6B.200d.txt'\n",
        "fasttext_model_path = 'cc.en.300.bin'\n",
        "\n",
        "vgg16_imagenet_weight_path = \"/content/drive/MyDrive/project_resources/Imagenet_weights/vgg16_weights_tf_dim_ordering_tf_kernels_notop.h5\"\n",
        "resnet50_imagenet_weight_path = \"/content/drive/MyDrive/project_resources/Imagenet_weights/resnet50_weights_tf_dim_ordering_tf_kernels_notop.h5\"\n",
        "mobilenetv2_imagenet_weight_path = \"/content/drive/MyDrive/project_resources/Imagenet_weights/mobilenet_v2_weights_tf_dim_ordering_tf_kernels_1.0_224_no_top.h5\""
      ],
      "metadata": {
        "id": "q0i8Eg_3XTZj"
      },
      "execution_count": 3,
      "outputs": []
    },
    {
      "cell_type": "markdown",
      "source": [
        "# Read the data"
      ],
      "metadata": {
        "id": "2ITSwycg8AzG"
      }
    },
    {
      "cell_type": "code",
      "source": [
        "# img_data_root = pathlib.Path('/content/drive/MyDrive/Tobacco3482-jpg/')\n",
        "# print(img_data_root)\n",
        "# for item in img_data_root.iterdir():\n",
        "#   print(item)\n",
        "\n",
        "# print()\n",
        "\n",
        "# text_data_root = pathlib.Path('/content/drive/MyDrive/tobaco_OCR/')\n",
        "# print(text_data_root)\n",
        "# for item in text_data_root.iterdir():\n",
        "#   print(item)"
      ],
      "metadata": {
        "id": "QemE440Q711U"
      },
      "execution_count": 4,
      "outputs": []
    },
    {
      "cell_type": "code",
      "source": [
        "# def get_corresponding_txtpath(img_path):\n",
        "#     return img_path.replace(\"Tobacco3482-jpg\", \"tobaco_OCR\")[:-3] + \"txt\"\n",
        "    \n",
        "\n",
        "# def get_file_paths_and_labels(img_data_root, text_data_root):\n",
        "#      img_paths = [str(path) for path in img_data_root.glob('*/*.jpg')]\n",
        "#      text_paths = [get_corresponding_txtpath(this_path) for this_path in img_paths]\n",
        "#      img_labels = [p.split(\"/\")[-2] for p in img_paths]\n",
        "#      text_labels = [p.split(\"/\")[-2] for p in text_paths]\n",
        "#      return img_paths, img_labels, text_paths, text_labels\n",
        "\n",
        "# img_paths, img_labels, text_paths, text_labels = get_file_paths_and_labels(img_data_root, text_data_root)\n",
        "# print(len(img_paths))\n",
        "# print(len(img_labels))\n",
        "# print(len(text_paths))\n",
        "# print(len(text_labels))"
      ],
      "metadata": {
        "id": "3hcVePal713n"
      },
      "execution_count": null,
      "outputs": []
    },
    {
      "cell_type": "code",
      "source": [
        "# def get_text_from_path(path):\n",
        "#     with open(path) as f:\n",
        "#         lines = f.readlines()\n",
        "#         lines  = ' '.join(lines)\n",
        "#         f.close()\n",
        "#     return lines\n",
        "\n",
        "# out_text = get_text_from_path('/content/drive/MyDrive/tobaco_OCR/ADVE/0000435350.txt') \n",
        "# print(out_text)"
      ],
      "metadata": {
        "id": "62pTUy397157"
      },
      "execution_count": null,
      "outputs": []
    },
    {
      "cell_type": "code",
      "source": [
        "# text_contains = []\n",
        "# c= 0 \n",
        "# for i, this_path in enumerate(text_paths):\n",
        "#     text_contains.append(get_text_from_path(this_path))\n",
        "#     print(c, end= \" \")\n",
        "#     c +=1"
      ],
      "metadata": {
        "id": "14f57wf1718Y"
      },
      "execution_count": null,
      "outputs": []
    },
    {
      "cell_type": "code",
      "source": [
        "# df = pd.DataFrame(list(zip(text_paths, text_contains, img_paths, img_labels)),\n",
        "#                columns =['text_paths','texts', 'img_paths', 'data_label'])\n",
        "\n",
        "# # Merged Dataframe\n",
        "# df.head()"
      ],
      "metadata": {
        "id": "yv6B8lgM71-_"
      },
      "execution_count": null,
      "outputs": []
    },
    {
      "cell_type": "code",
      "source": [
        "# df.to_csv(\"merged_data_for_multimodal_model.csv\")"
      ],
      "metadata": {
        "id": "O6RWknWGtKZS"
      },
      "execution_count": null,
      "outputs": []
    },
    {
      "cell_type": "code",
      "source": [
        "df = pd.read_csv(merged_dataset_path)\n",
        "print(len(df))\n",
        "df.head()"
      ],
      "metadata": {
        "colab": {
          "base_uri": "https://localhost:8080/",
          "height": 224
        },
        "id": "EQkVjvVIG7VZ",
        "outputId": "18903e45-093b-4fa5-fb15-65f021c5a20e"
      },
      "execution_count": 5,
      "outputs": [
        {
          "output_type": "stream",
          "name": "stdout",
          "text": [
            "3482\n"
          ]
        },
        {
          "output_type": "execute_result",
          "data": {
            "text/plain": [
              "                                          text_paths  \\\n",
              "0  /content/drive/MyDrive/tobaco_OCR/ADVE/0000136...   \n",
              "1  /content/drive/MyDrive/tobaco_OCR/ADVE/0000435...   \n",
              "2  /content/drive/MyDrive/tobaco_OCR/ADVE/0030049...   \n",
              "3  /content/drive/MyDrive/tobaco_OCR/ADVE/0000556...   \n",
              "4  /content/drive/MyDrive/tobaco_OCR/ADVE/0349627...   \n",
              "\n",
              "                                               texts  \\\n",
              "0  \\n \\n \\n \\n A Mpertant as yar\\n sesiye teaeter...   \n",
              "1  \\n TE che fitm\\n m66400 7127\\n KOOLS are the o...   \n",
              "2  SR Onrel ules cee\\n Nee dss\\n The one tales WT...   \n",
              "3  so ARN Rr nr\\n BWR Ga ||\\n Vending Operators\\n...   \n",
              "4  \\n &\\n BR. :\\n er non\\n be 4\\n op Re eo eee ee...   \n",
              "\n",
              "                                           img_paths data_label  \n",
              "0  /content/drive/MyDrive/Tobacco3482-jpg/ADVE/00...       ADVE  \n",
              "1  /content/drive/MyDrive/Tobacco3482-jpg/ADVE/00...       ADVE  \n",
              "2  /content/drive/MyDrive/Tobacco3482-jpg/ADVE/00...       ADVE  \n",
              "3  /content/drive/MyDrive/Tobacco3482-jpg/ADVE/00...       ADVE  \n",
              "4  /content/drive/MyDrive/Tobacco3482-jpg/ADVE/03...       ADVE  "
            ],
            "text/html": [
              "\n",
              "  <div id=\"df-3f907682-270a-4cb3-b4f1-2eae58fdefcc\">\n",
              "    <div class=\"colab-df-container\">\n",
              "      <div>\n",
              "<style scoped>\n",
              "    .dataframe tbody tr th:only-of-type {\n",
              "        vertical-align: middle;\n",
              "    }\n",
              "\n",
              "    .dataframe tbody tr th {\n",
              "        vertical-align: top;\n",
              "    }\n",
              "\n",
              "    .dataframe thead th {\n",
              "        text-align: right;\n",
              "    }\n",
              "</style>\n",
              "<table border=\"1\" class=\"dataframe\">\n",
              "  <thead>\n",
              "    <tr style=\"text-align: right;\">\n",
              "      <th></th>\n",
              "      <th>text_paths</th>\n",
              "      <th>texts</th>\n",
              "      <th>img_paths</th>\n",
              "      <th>data_label</th>\n",
              "    </tr>\n",
              "  </thead>\n",
              "  <tbody>\n",
              "    <tr>\n",
              "      <th>0</th>\n",
              "      <td>/content/drive/MyDrive/tobaco_OCR/ADVE/0000136...</td>\n",
              "      <td>\\n \\n \\n \\n A Mpertant as yar\\n sesiye teaeter...</td>\n",
              "      <td>/content/drive/MyDrive/Tobacco3482-jpg/ADVE/00...</td>\n",
              "      <td>ADVE</td>\n",
              "    </tr>\n",
              "    <tr>\n",
              "      <th>1</th>\n",
              "      <td>/content/drive/MyDrive/tobaco_OCR/ADVE/0000435...</td>\n",
              "      <td>\\n TE che fitm\\n m66400 7127\\n KOOLS are the o...</td>\n",
              "      <td>/content/drive/MyDrive/Tobacco3482-jpg/ADVE/00...</td>\n",
              "      <td>ADVE</td>\n",
              "    </tr>\n",
              "    <tr>\n",
              "      <th>2</th>\n",
              "      <td>/content/drive/MyDrive/tobaco_OCR/ADVE/0030049...</td>\n",
              "      <td>SR Onrel ules cee\\n Nee dss\\n The one tales WT...</td>\n",
              "      <td>/content/drive/MyDrive/Tobacco3482-jpg/ADVE/00...</td>\n",
              "      <td>ADVE</td>\n",
              "    </tr>\n",
              "    <tr>\n",
              "      <th>3</th>\n",
              "      <td>/content/drive/MyDrive/tobaco_OCR/ADVE/0000556...</td>\n",
              "      <td>so ARN Rr nr\\n BWR Ga ||\\n Vending Operators\\n...</td>\n",
              "      <td>/content/drive/MyDrive/Tobacco3482-jpg/ADVE/00...</td>\n",
              "      <td>ADVE</td>\n",
              "    </tr>\n",
              "    <tr>\n",
              "      <th>4</th>\n",
              "      <td>/content/drive/MyDrive/tobaco_OCR/ADVE/0349627...</td>\n",
              "      <td>\\n &amp;\\n BR. :\\n er non\\n be 4\\n op Re eo eee ee...</td>\n",
              "      <td>/content/drive/MyDrive/Tobacco3482-jpg/ADVE/03...</td>\n",
              "      <td>ADVE</td>\n",
              "    </tr>\n",
              "  </tbody>\n",
              "</table>\n",
              "</div>\n",
              "      <button class=\"colab-df-convert\" onclick=\"convertToInteractive('df-3f907682-270a-4cb3-b4f1-2eae58fdefcc')\"\n",
              "              title=\"Convert this dataframe to an interactive table.\"\n",
              "              style=\"display:none;\">\n",
              "        \n",
              "  <svg xmlns=\"http://www.w3.org/2000/svg\" height=\"24px\"viewBox=\"0 0 24 24\"\n",
              "       width=\"24px\">\n",
              "    <path d=\"M0 0h24v24H0V0z\" fill=\"none\"/>\n",
              "    <path d=\"M18.56 5.44l.94 2.06.94-2.06 2.06-.94-2.06-.94-.94-2.06-.94 2.06-2.06.94zm-11 1L8.5 8.5l.94-2.06 2.06-.94-2.06-.94L8.5 2.5l-.94 2.06-2.06.94zm10 10l.94 2.06.94-2.06 2.06-.94-2.06-.94-.94-2.06-.94 2.06-2.06.94z\"/><path d=\"M17.41 7.96l-1.37-1.37c-.4-.4-.92-.59-1.43-.59-.52 0-1.04.2-1.43.59L10.3 9.45l-7.72 7.72c-.78.78-.78 2.05 0 2.83L4 21.41c.39.39.9.59 1.41.59.51 0 1.02-.2 1.41-.59l7.78-7.78 2.81-2.81c.8-.78.8-2.07 0-2.86zM5.41 20L4 18.59l7.72-7.72 1.47 1.35L5.41 20z\"/>\n",
              "  </svg>\n",
              "      </button>\n",
              "      \n",
              "  <style>\n",
              "    .colab-df-container {\n",
              "      display:flex;\n",
              "      flex-wrap:wrap;\n",
              "      gap: 12px;\n",
              "    }\n",
              "\n",
              "    .colab-df-convert {\n",
              "      background-color: #E8F0FE;\n",
              "      border: none;\n",
              "      border-radius: 50%;\n",
              "      cursor: pointer;\n",
              "      display: none;\n",
              "      fill: #1967D2;\n",
              "      height: 32px;\n",
              "      padding: 0 0 0 0;\n",
              "      width: 32px;\n",
              "    }\n",
              "\n",
              "    .colab-df-convert:hover {\n",
              "      background-color: #E2EBFA;\n",
              "      box-shadow: 0px 1px 2px rgba(60, 64, 67, 0.3), 0px 1px 3px 1px rgba(60, 64, 67, 0.15);\n",
              "      fill: #174EA6;\n",
              "    }\n",
              "\n",
              "    [theme=dark] .colab-df-convert {\n",
              "      background-color: #3B4455;\n",
              "      fill: #D2E3FC;\n",
              "    }\n",
              "\n",
              "    [theme=dark] .colab-df-convert:hover {\n",
              "      background-color: #434B5C;\n",
              "      box-shadow: 0px 1px 3px 1px rgba(0, 0, 0, 0.15);\n",
              "      filter: drop-shadow(0px 1px 2px rgba(0, 0, 0, 0.3));\n",
              "      fill: #FFFFFF;\n",
              "    }\n",
              "  </style>\n",
              "\n",
              "      <script>\n",
              "        const buttonEl =\n",
              "          document.querySelector('#df-3f907682-270a-4cb3-b4f1-2eae58fdefcc button.colab-df-convert');\n",
              "        buttonEl.style.display =\n",
              "          google.colab.kernel.accessAllowed ? 'block' : 'none';\n",
              "\n",
              "        async function convertToInteractive(key) {\n",
              "          const element = document.querySelector('#df-3f907682-270a-4cb3-b4f1-2eae58fdefcc');\n",
              "          const dataTable =\n",
              "            await google.colab.kernel.invokeFunction('convertToInteractive',\n",
              "                                                     [key], {});\n",
              "          if (!dataTable) return;\n",
              "\n",
              "          const docLinkHtml = 'Like what you see? Visit the ' +\n",
              "            '<a target=\"_blank\" href=https://colab.research.google.com/notebooks/data_table.ipynb>data table notebook</a>'\n",
              "            + ' to learn more about interactive tables.';\n",
              "          element.innerHTML = '';\n",
              "          dataTable['output_type'] = 'display_data';\n",
              "          await google.colab.output.renderOutput(dataTable, element);\n",
              "          const docLink = document.createElement('div');\n",
              "          docLink.innerHTML = docLinkHtml;\n",
              "          element.appendChild(docLink);\n",
              "        }\n",
              "      </script>\n",
              "    </div>\n",
              "  </div>\n",
              "  "
            ]
          },
          "metadata": {},
          "execution_count": 5
        }
      ]
    },
    {
      "cell_type": "code",
      "source": [
        "from sklearn import preprocessing\n",
        "le = preprocessing.LabelEncoder()\n",
        "df['data_label']= le.fit_transform(df['data_label'])\n",
        "df.head()"
      ],
      "metadata": {
        "colab": {
          "base_uri": "https://localhost:8080/",
          "height": 206
        },
        "id": "CvyR128bG7Xf",
        "outputId": "dc1bd311-4c71-47d6-e319-9ec1f03e116b"
      },
      "execution_count": 6,
      "outputs": [
        {
          "output_type": "execute_result",
          "data": {
            "text/plain": [
              "                                          text_paths  \\\n",
              "0  /content/drive/MyDrive/tobaco_OCR/ADVE/0000136...   \n",
              "1  /content/drive/MyDrive/tobaco_OCR/ADVE/0000435...   \n",
              "2  /content/drive/MyDrive/tobaco_OCR/ADVE/0030049...   \n",
              "3  /content/drive/MyDrive/tobaco_OCR/ADVE/0000556...   \n",
              "4  /content/drive/MyDrive/tobaco_OCR/ADVE/0349627...   \n",
              "\n",
              "                                               texts  \\\n",
              "0  \\n \\n \\n \\n A Mpertant as yar\\n sesiye teaeter...   \n",
              "1  \\n TE che fitm\\n m66400 7127\\n KOOLS are the o...   \n",
              "2  SR Onrel ules cee\\n Nee dss\\n The one tales WT...   \n",
              "3  so ARN Rr nr\\n BWR Ga ||\\n Vending Operators\\n...   \n",
              "4  \\n &\\n BR. :\\n er non\\n be 4\\n op Re eo eee ee...   \n",
              "\n",
              "                                           img_paths  data_label  \n",
              "0  /content/drive/MyDrive/Tobacco3482-jpg/ADVE/00...           0  \n",
              "1  /content/drive/MyDrive/Tobacco3482-jpg/ADVE/00...           0  \n",
              "2  /content/drive/MyDrive/Tobacco3482-jpg/ADVE/00...           0  \n",
              "3  /content/drive/MyDrive/Tobacco3482-jpg/ADVE/00...           0  \n",
              "4  /content/drive/MyDrive/Tobacco3482-jpg/ADVE/03...           0  "
            ],
            "text/html": [
              "\n",
              "  <div id=\"df-f0f87971-b379-4d3d-bb6a-42eb145f635d\">\n",
              "    <div class=\"colab-df-container\">\n",
              "      <div>\n",
              "<style scoped>\n",
              "    .dataframe tbody tr th:only-of-type {\n",
              "        vertical-align: middle;\n",
              "    }\n",
              "\n",
              "    .dataframe tbody tr th {\n",
              "        vertical-align: top;\n",
              "    }\n",
              "\n",
              "    .dataframe thead th {\n",
              "        text-align: right;\n",
              "    }\n",
              "</style>\n",
              "<table border=\"1\" class=\"dataframe\">\n",
              "  <thead>\n",
              "    <tr style=\"text-align: right;\">\n",
              "      <th></th>\n",
              "      <th>text_paths</th>\n",
              "      <th>texts</th>\n",
              "      <th>img_paths</th>\n",
              "      <th>data_label</th>\n",
              "    </tr>\n",
              "  </thead>\n",
              "  <tbody>\n",
              "    <tr>\n",
              "      <th>0</th>\n",
              "      <td>/content/drive/MyDrive/tobaco_OCR/ADVE/0000136...</td>\n",
              "      <td>\\n \\n \\n \\n A Mpertant as yar\\n sesiye teaeter...</td>\n",
              "      <td>/content/drive/MyDrive/Tobacco3482-jpg/ADVE/00...</td>\n",
              "      <td>0</td>\n",
              "    </tr>\n",
              "    <tr>\n",
              "      <th>1</th>\n",
              "      <td>/content/drive/MyDrive/tobaco_OCR/ADVE/0000435...</td>\n",
              "      <td>\\n TE che fitm\\n m66400 7127\\n KOOLS are the o...</td>\n",
              "      <td>/content/drive/MyDrive/Tobacco3482-jpg/ADVE/00...</td>\n",
              "      <td>0</td>\n",
              "    </tr>\n",
              "    <tr>\n",
              "      <th>2</th>\n",
              "      <td>/content/drive/MyDrive/tobaco_OCR/ADVE/0030049...</td>\n",
              "      <td>SR Onrel ules cee\\n Nee dss\\n The one tales WT...</td>\n",
              "      <td>/content/drive/MyDrive/Tobacco3482-jpg/ADVE/00...</td>\n",
              "      <td>0</td>\n",
              "    </tr>\n",
              "    <tr>\n",
              "      <th>3</th>\n",
              "      <td>/content/drive/MyDrive/tobaco_OCR/ADVE/0000556...</td>\n",
              "      <td>so ARN Rr nr\\n BWR Ga ||\\n Vending Operators\\n...</td>\n",
              "      <td>/content/drive/MyDrive/Tobacco3482-jpg/ADVE/00...</td>\n",
              "      <td>0</td>\n",
              "    </tr>\n",
              "    <tr>\n",
              "      <th>4</th>\n",
              "      <td>/content/drive/MyDrive/tobaco_OCR/ADVE/0349627...</td>\n",
              "      <td>\\n &amp;\\n BR. :\\n er non\\n be 4\\n op Re eo eee ee...</td>\n",
              "      <td>/content/drive/MyDrive/Tobacco3482-jpg/ADVE/03...</td>\n",
              "      <td>0</td>\n",
              "    </tr>\n",
              "  </tbody>\n",
              "</table>\n",
              "</div>\n",
              "      <button class=\"colab-df-convert\" onclick=\"convertToInteractive('df-f0f87971-b379-4d3d-bb6a-42eb145f635d')\"\n",
              "              title=\"Convert this dataframe to an interactive table.\"\n",
              "              style=\"display:none;\">\n",
              "        \n",
              "  <svg xmlns=\"http://www.w3.org/2000/svg\" height=\"24px\"viewBox=\"0 0 24 24\"\n",
              "       width=\"24px\">\n",
              "    <path d=\"M0 0h24v24H0V0z\" fill=\"none\"/>\n",
              "    <path d=\"M18.56 5.44l.94 2.06.94-2.06 2.06-.94-2.06-.94-.94-2.06-.94 2.06-2.06.94zm-11 1L8.5 8.5l.94-2.06 2.06-.94-2.06-.94L8.5 2.5l-.94 2.06-2.06.94zm10 10l.94 2.06.94-2.06 2.06-.94-2.06-.94-.94-2.06-.94 2.06-2.06.94z\"/><path d=\"M17.41 7.96l-1.37-1.37c-.4-.4-.92-.59-1.43-.59-.52 0-1.04.2-1.43.59L10.3 9.45l-7.72 7.72c-.78.78-.78 2.05 0 2.83L4 21.41c.39.39.9.59 1.41.59.51 0 1.02-.2 1.41-.59l7.78-7.78 2.81-2.81c.8-.78.8-2.07 0-2.86zM5.41 20L4 18.59l7.72-7.72 1.47 1.35L5.41 20z\"/>\n",
              "  </svg>\n",
              "      </button>\n",
              "      \n",
              "  <style>\n",
              "    .colab-df-container {\n",
              "      display:flex;\n",
              "      flex-wrap:wrap;\n",
              "      gap: 12px;\n",
              "    }\n",
              "\n",
              "    .colab-df-convert {\n",
              "      background-color: #E8F0FE;\n",
              "      border: none;\n",
              "      border-radius: 50%;\n",
              "      cursor: pointer;\n",
              "      display: none;\n",
              "      fill: #1967D2;\n",
              "      height: 32px;\n",
              "      padding: 0 0 0 0;\n",
              "      width: 32px;\n",
              "    }\n",
              "\n",
              "    .colab-df-convert:hover {\n",
              "      background-color: #E2EBFA;\n",
              "      box-shadow: 0px 1px 2px rgba(60, 64, 67, 0.3), 0px 1px 3px 1px rgba(60, 64, 67, 0.15);\n",
              "      fill: #174EA6;\n",
              "    }\n",
              "\n",
              "    [theme=dark] .colab-df-convert {\n",
              "      background-color: #3B4455;\n",
              "      fill: #D2E3FC;\n",
              "    }\n",
              "\n",
              "    [theme=dark] .colab-df-convert:hover {\n",
              "      background-color: #434B5C;\n",
              "      box-shadow: 0px 1px 3px 1px rgba(0, 0, 0, 0.15);\n",
              "      filter: drop-shadow(0px 1px 2px rgba(0, 0, 0, 0.3));\n",
              "      fill: #FFFFFF;\n",
              "    }\n",
              "  </style>\n",
              "\n",
              "      <script>\n",
              "        const buttonEl =\n",
              "          document.querySelector('#df-f0f87971-b379-4d3d-bb6a-42eb145f635d button.colab-df-convert');\n",
              "        buttonEl.style.display =\n",
              "          google.colab.kernel.accessAllowed ? 'block' : 'none';\n",
              "\n",
              "        async function convertToInteractive(key) {\n",
              "          const element = document.querySelector('#df-f0f87971-b379-4d3d-bb6a-42eb145f635d');\n",
              "          const dataTable =\n",
              "            await google.colab.kernel.invokeFunction('convertToInteractive',\n",
              "                                                     [key], {});\n",
              "          if (!dataTable) return;\n",
              "\n",
              "          const docLinkHtml = 'Like what you see? Visit the ' +\n",
              "            '<a target=\"_blank\" href=https://colab.research.google.com/notebooks/data_table.ipynb>data table notebook</a>'\n",
              "            + ' to learn more about interactive tables.';\n",
              "          element.innerHTML = '';\n",
              "          dataTable['output_type'] = 'display_data';\n",
              "          await google.colab.output.renderOutput(dataTable, element);\n",
              "          const docLink = document.createElement('div');\n",
              "          docLink.innerHTML = docLinkHtml;\n",
              "          element.appendChild(docLink);\n",
              "        }\n",
              "      </script>\n",
              "    </div>\n",
              "  </div>\n",
              "  "
            ]
          },
          "metadata": {},
          "execution_count": 6
        }
      ]
    },
    {
      "cell_type": "code",
      "source": [
        "label_dict = {}\n",
        "for idx, row in enumerate(df['text_paths']):\n",
        "    path = df.at[idx, 'text_paths']\n",
        "    lab = path.split(\"/\")[-2]\n",
        "    label_dict[str(lab)] = df.at[idx, 'data_label']\n",
        "    \n",
        "print(label_dict) "
      ],
      "metadata": {
        "colab": {
          "base_uri": "https://localhost:8080/"
        },
        "id": "wB8KrpAKG7Zi",
        "outputId": "3221c716-f721-449e-aa6f-dae2f0b80e64"
      },
      "execution_count": 7,
      "outputs": [
        {
          "output_type": "stream",
          "name": "stdout",
          "text": [
            "{'ADVE': 0, 'Form': 2, 'Note': 6, 'Email': 1, 'News': 5, 'Resume': 8, 'Scientific': 9, 'Memo': 4, 'Report': 7, 'Letter': 3}\n"
          ]
        }
      ]
    },
    {
      "cell_type": "code",
      "source": [
        "import re\n",
        "def preprocess(text_string):\n",
        "    preprocessed_string = re.sub(r'[^\\w\\s]','',text_string)\n",
        "    preprocessed_string = preprocessed_string.replace('\\n',' ')\n",
        "    preprocessed_string = preprocessed_string.replace('_',' ')\n",
        "    preprocessed_string = re.sub(' +', ' ', preprocessed_string)\n",
        "    return preprocessed_string"
      ],
      "metadata": {
        "id": "HMeFaH8EG7bt"
      },
      "execution_count": 8,
      "outputs": []
    },
    {
      "cell_type": "code",
      "source": [
        "# Tokenize, Lemmatize, stopwords removal\n",
        "import spacy \n",
        "import nltk\n",
        "# nlp = spacy.load(\"en\", disable=['parser', 'tagger', 'ner'])\n",
        "nlp = spacy.load(\"en_core_web_sm\")\n",
        "# from nltk.corpus import stopwords\n",
        "# nltk.download('stopwords')\n",
        "# stops = stopwords.words(\"english\")\n",
        "\n",
        "def get_stopwords(file_path):\n",
        "    with open(file_path, \"r\") as fp:\n",
        "        content = fp.read()\n",
        "        stops = content.split(\"\\n\")\n",
        "        stops = stops[:-1]\n",
        "        fp.close()\n",
        "        return stops\n",
        "\n",
        "stops = get_stopwords(stopwords_path)\n",
        "def normalize(comment, lowercase, remove_stopwords):\n",
        "    if lowercase:\n",
        "        comment = comment.lower()\n",
        "    comment = nlp(comment)\n",
        "    lemmatized = list()\n",
        "    for word in comment:\n",
        "        lemma = word.lemma_.strip()\n",
        "        if lemma:\n",
        "            if not remove_stopwords or (remove_stopwords and lemma not in stops):\n",
        "                lemmatized.append(lemma)\n",
        "    return \" \".join(lemmatized)\n",
        "\n",
        "normalize(\"counting playing the Home\", lowercase=True, remove_stopwords=True)"
      ],
      "metadata": {
        "colab": {
          "base_uri": "https://localhost:8080/",
          "height": 35
        },
        "id": "lNwB2OC8G7fm",
        "outputId": "1e218c65-eb66-4b58-cc80-4e55df552313"
      },
      "execution_count": 9,
      "outputs": [
        {
          "output_type": "execute_result",
          "data": {
            "text/plain": [
              "'count play home'"
            ],
            "application/vnd.google.colaboratory.intrinsic+json": {
              "type": "string"
            }
          },
          "metadata": {},
          "execution_count": 9
        }
      ]
    },
    {
      "cell_type": "code",
      "source": [
        "df['texts'] = [preprocess(str(this_text)) for this_text in df['texts']]\n",
        "df['texts'] = [normalize(this_text, lowercase=True, remove_stopwords=True) for this_text in df['texts']]\n",
        "df.head()"
      ],
      "metadata": {
        "colab": {
          "base_uri": "https://localhost:8080/",
          "height": 206
        },
        "id": "bHN3LSknG7hZ",
        "outputId": "d19e0e84-55c0-4660-f8c0-369d98da1a8a"
      },
      "execution_count": 10,
      "outputs": [
        {
          "output_type": "execute_result",
          "data": {
            "text/plain": [
              "                                          text_paths  \\\n",
              "0  /content/drive/MyDrive/tobaco_OCR/ADVE/0000136...   \n",
              "1  /content/drive/MyDrive/tobaco_OCR/ADVE/0000435...   \n",
              "2  /content/drive/MyDrive/tobaco_OCR/ADVE/0030049...   \n",
              "3  /content/drive/MyDrive/tobaco_OCR/ADVE/0000556...   \n",
              "4  /content/drive/MyDrive/tobaco_OCR/ADVE/0349627...   \n",
              "\n",
              "                                               texts  \\\n",
              "0  mpertant yar sesiye teaetere cabiieess baely k...   \n",
              "1  te che fitm m66400 7127 kool cigarette taste g...   \n",
              "2  sr onrel ules cee nee dss one tale wt lower ta...   \n",
              "3  arn rr nr bwr ga vend operator column worth 8 ...   \n",
              "4  br er non 4 op eo eee ee eee talk smoking deci...   \n",
              "\n",
              "                                           img_paths  data_label  \n",
              "0  /content/drive/MyDrive/Tobacco3482-jpg/ADVE/00...           0  \n",
              "1  /content/drive/MyDrive/Tobacco3482-jpg/ADVE/00...           0  \n",
              "2  /content/drive/MyDrive/Tobacco3482-jpg/ADVE/00...           0  \n",
              "3  /content/drive/MyDrive/Tobacco3482-jpg/ADVE/00...           0  \n",
              "4  /content/drive/MyDrive/Tobacco3482-jpg/ADVE/03...           0  "
            ],
            "text/html": [
              "\n",
              "  <div id=\"df-d0890b20-9f2f-4866-98e7-2fa6f256338a\">\n",
              "    <div class=\"colab-df-container\">\n",
              "      <div>\n",
              "<style scoped>\n",
              "    .dataframe tbody tr th:only-of-type {\n",
              "        vertical-align: middle;\n",
              "    }\n",
              "\n",
              "    .dataframe tbody tr th {\n",
              "        vertical-align: top;\n",
              "    }\n",
              "\n",
              "    .dataframe thead th {\n",
              "        text-align: right;\n",
              "    }\n",
              "</style>\n",
              "<table border=\"1\" class=\"dataframe\">\n",
              "  <thead>\n",
              "    <tr style=\"text-align: right;\">\n",
              "      <th></th>\n",
              "      <th>text_paths</th>\n",
              "      <th>texts</th>\n",
              "      <th>img_paths</th>\n",
              "      <th>data_label</th>\n",
              "    </tr>\n",
              "  </thead>\n",
              "  <tbody>\n",
              "    <tr>\n",
              "      <th>0</th>\n",
              "      <td>/content/drive/MyDrive/tobaco_OCR/ADVE/0000136...</td>\n",
              "      <td>mpertant yar sesiye teaetere cabiieess baely k...</td>\n",
              "      <td>/content/drive/MyDrive/Tobacco3482-jpg/ADVE/00...</td>\n",
              "      <td>0</td>\n",
              "    </tr>\n",
              "    <tr>\n",
              "      <th>1</th>\n",
              "      <td>/content/drive/MyDrive/tobaco_OCR/ADVE/0000435...</td>\n",
              "      <td>te che fitm m66400 7127 kool cigarette taste g...</td>\n",
              "      <td>/content/drive/MyDrive/Tobacco3482-jpg/ADVE/00...</td>\n",
              "      <td>0</td>\n",
              "    </tr>\n",
              "    <tr>\n",
              "      <th>2</th>\n",
              "      <td>/content/drive/MyDrive/tobaco_OCR/ADVE/0030049...</td>\n",
              "      <td>sr onrel ules cee nee dss one tale wt lower ta...</td>\n",
              "      <td>/content/drive/MyDrive/Tobacco3482-jpg/ADVE/00...</td>\n",
              "      <td>0</td>\n",
              "    </tr>\n",
              "    <tr>\n",
              "      <th>3</th>\n",
              "      <td>/content/drive/MyDrive/tobaco_OCR/ADVE/0000556...</td>\n",
              "      <td>arn rr nr bwr ga vend operator column worth 8 ...</td>\n",
              "      <td>/content/drive/MyDrive/Tobacco3482-jpg/ADVE/00...</td>\n",
              "      <td>0</td>\n",
              "    </tr>\n",
              "    <tr>\n",
              "      <th>4</th>\n",
              "      <td>/content/drive/MyDrive/tobaco_OCR/ADVE/0349627...</td>\n",
              "      <td>br er non 4 op eo eee ee eee talk smoking deci...</td>\n",
              "      <td>/content/drive/MyDrive/Tobacco3482-jpg/ADVE/03...</td>\n",
              "      <td>0</td>\n",
              "    </tr>\n",
              "  </tbody>\n",
              "</table>\n",
              "</div>\n",
              "      <button class=\"colab-df-convert\" onclick=\"convertToInteractive('df-d0890b20-9f2f-4866-98e7-2fa6f256338a')\"\n",
              "              title=\"Convert this dataframe to an interactive table.\"\n",
              "              style=\"display:none;\">\n",
              "        \n",
              "  <svg xmlns=\"http://www.w3.org/2000/svg\" height=\"24px\"viewBox=\"0 0 24 24\"\n",
              "       width=\"24px\">\n",
              "    <path d=\"M0 0h24v24H0V0z\" fill=\"none\"/>\n",
              "    <path d=\"M18.56 5.44l.94 2.06.94-2.06 2.06-.94-2.06-.94-.94-2.06-.94 2.06-2.06.94zm-11 1L8.5 8.5l.94-2.06 2.06-.94-2.06-.94L8.5 2.5l-.94 2.06-2.06.94zm10 10l.94 2.06.94-2.06 2.06-.94-2.06-.94-.94-2.06-.94 2.06-2.06.94z\"/><path d=\"M17.41 7.96l-1.37-1.37c-.4-.4-.92-.59-1.43-.59-.52 0-1.04.2-1.43.59L10.3 9.45l-7.72 7.72c-.78.78-.78 2.05 0 2.83L4 21.41c.39.39.9.59 1.41.59.51 0 1.02-.2 1.41-.59l7.78-7.78 2.81-2.81c.8-.78.8-2.07 0-2.86zM5.41 20L4 18.59l7.72-7.72 1.47 1.35L5.41 20z\"/>\n",
              "  </svg>\n",
              "      </button>\n",
              "      \n",
              "  <style>\n",
              "    .colab-df-container {\n",
              "      display:flex;\n",
              "      flex-wrap:wrap;\n",
              "      gap: 12px;\n",
              "    }\n",
              "\n",
              "    .colab-df-convert {\n",
              "      background-color: #E8F0FE;\n",
              "      border: none;\n",
              "      border-radius: 50%;\n",
              "      cursor: pointer;\n",
              "      display: none;\n",
              "      fill: #1967D2;\n",
              "      height: 32px;\n",
              "      padding: 0 0 0 0;\n",
              "      width: 32px;\n",
              "    }\n",
              "\n",
              "    .colab-df-convert:hover {\n",
              "      background-color: #E2EBFA;\n",
              "      box-shadow: 0px 1px 2px rgba(60, 64, 67, 0.3), 0px 1px 3px 1px rgba(60, 64, 67, 0.15);\n",
              "      fill: #174EA6;\n",
              "    }\n",
              "\n",
              "    [theme=dark] .colab-df-convert {\n",
              "      background-color: #3B4455;\n",
              "      fill: #D2E3FC;\n",
              "    }\n",
              "\n",
              "    [theme=dark] .colab-df-convert:hover {\n",
              "      background-color: #434B5C;\n",
              "      box-shadow: 0px 1px 3px 1px rgba(0, 0, 0, 0.15);\n",
              "      filter: drop-shadow(0px 1px 2px rgba(0, 0, 0, 0.3));\n",
              "      fill: #FFFFFF;\n",
              "    }\n",
              "  </style>\n",
              "\n",
              "      <script>\n",
              "        const buttonEl =\n",
              "          document.querySelector('#df-d0890b20-9f2f-4866-98e7-2fa6f256338a button.colab-df-convert');\n",
              "        buttonEl.style.display =\n",
              "          google.colab.kernel.accessAllowed ? 'block' : 'none';\n",
              "\n",
              "        async function convertToInteractive(key) {\n",
              "          const element = document.querySelector('#df-d0890b20-9f2f-4866-98e7-2fa6f256338a');\n",
              "          const dataTable =\n",
              "            await google.colab.kernel.invokeFunction('convertToInteractive',\n",
              "                                                     [key], {});\n",
              "          if (!dataTable) return;\n",
              "\n",
              "          const docLinkHtml = 'Like what you see? Visit the ' +\n",
              "            '<a target=\"_blank\" href=https://colab.research.google.com/notebooks/data_table.ipynb>data table notebook</a>'\n",
              "            + ' to learn more about interactive tables.';\n",
              "          element.innerHTML = '';\n",
              "          dataTable['output_type'] = 'display_data';\n",
              "          await google.colab.output.renderOutput(dataTable, element);\n",
              "          const docLink = document.createElement('div');\n",
              "          docLink.innerHTML = docLinkHtml;\n",
              "          element.appendChild(docLink);\n",
              "        }\n",
              "      </script>\n",
              "    </div>\n",
              "  </div>\n",
              "  "
            ]
          },
          "metadata": {},
          "execution_count": 10
        }
      ]
    },
    {
      "cell_type": "code",
      "source": [
        "train_df, test_df = train_test_split(df, test_size=0.2, random_state=42)\n",
        "test_df, val_df = train_test_split(test_df, test_size=0.5, random_state=42)"
      ],
      "metadata": {
        "id": "LcweAJ8pHmol"
      },
      "execution_count": 11,
      "outputs": []
    },
    {
      "cell_type": "code",
      "source": [
        "from tensorflow.keras.preprocessing.text import Tokenizer\n",
        "from tensorflow.keras.preprocessing.sequence import pad_sequences"
      ],
      "metadata": {
        "id": "0xyXKSByG7k7"
      },
      "execution_count": 12,
      "outputs": []
    },
    {
      "cell_type": "code",
      "source": [
        "max_len = 500\n",
        "# Fit the tokenizer\n",
        "tokenizer = Tokenizer(num_words=65000)\n",
        "tokenizer.fit_on_texts(train_df['texts'])\n",
        "\n",
        "# sequence the input corpus and add zero padding upto 500 word\n",
        "train_sequence = tokenizer.texts_to_sequences(train_df['texts'])\n",
        "train_padded = pad_sequences(train_sequence, maxlen = max_len, truncating = \"post\", padding = \"post\" )\n",
        "\n",
        "valid_sequence = tokenizer.texts_to_sequences(val_df['texts'])\n",
        "valid_padded = pad_sequences(valid_sequence, maxlen = max_len, truncating = \"post\", padding = \"post\" )\n",
        "\n",
        "test_sequence = tokenizer.texts_to_sequences(test_df['texts'])\n",
        "test_padded = pad_sequences(test_sequence, maxlen = max_len, truncating = \"post\", padding = \"post\" )\n",
        "\n",
        "train_tensor = [tf.convert_to_tensor(train_padded[i]) for i in range(train_padded.shape[0])]\n",
        "train_df['texts_embedding'] = train_tensor\n",
        "\n",
        "test_tensor = [tf.convert_to_tensor(test_padded[i]) for i in range(test_padded.shape[0])]\n",
        "test_df['texts_embedding'] = test_tensor   \n",
        "\n",
        "val_tensor = [tf.convert_to_tensor(valid_padded[i]) for i in range(valid_padded.shape[0])]\n",
        "val_df['texts_embedding'] = val_tensor\n"
      ],
      "metadata": {
        "id": "e7f-wIQUIv9X"
      },
      "execution_count": 13,
      "outputs": []
    },
    {
      "cell_type": "code",
      "source": [
        "word_index = tokenizer.word_index\n",
        "num_words = len(word_index) + 1"
      ],
      "metadata": {
        "id": "sLGVE198hWXM"
      },
      "execution_count": 14,
      "outputs": []
    },
    {
      "cell_type": "code",
      "source": [
        "\n",
        "def get_embedding_matrix(text_model):\n",
        "    if text_model == \"glove\":\n",
        "        emmbed_dict = {}\n",
        "        with open(glove_vector_path ,'r') as f:\n",
        "            for line in f:\n",
        "                values = line.split()\n",
        "                word = values[0]\n",
        "                vector = np.asarray(values[1:],'float32')\n",
        "                emmbed_dict[word]=vector\n",
        "            f.close()\n",
        "        embedding_matrix = np.zeros((num_words, 200))\n",
        "        for word, i in word_index.items():\n",
        "            if i < num_words:\n",
        "                emb_vec = emmbed_dict.get(word)\n",
        "                if emb_vec is not None:\n",
        "                    embedding_matrix[i] = emb_vec\n",
        "        return embedding_matrix \n",
        "\n",
        "    elif text_model == \"fasttext\":  \n",
        "        ft = fasttext.load_model(fasttext_model_path)    \n",
        "        embedding_matrix = np.zeros((num_words, 300)) \n",
        "        for word, i in word_index.items():\n",
        "            if i < num_words:\n",
        "                emb_vec = ft.get_word_vector(word)\n",
        "                if emb_vec is not None:\n",
        "                    embedding_matrix[i] = emb_vec \n",
        "        return embedding_matrix    \n",
        "    return None                                       "
      ],
      "metadata": {
        "id": "pljgtsK9In4l"
      },
      "execution_count": 15,
      "outputs": []
    },
    {
      "cell_type": "code",
      "source": [
        "def dataframe_to_dataset(dataframe):\n",
        "    d = {}\n",
        "    embed_tensor = []\n",
        "    for i in dataframe['texts_embedding']:\n",
        "        embed_tensor.append(tf.convert_to_tensor(i))\n",
        "\n",
        "    img_path_tensor= []\n",
        "    for i in dataframe['img_paths']:\n",
        "        img_path_tensor.append(tf.convert_to_tensor(i))\n",
        "\n",
        "    d['texts_embedding'] = embed_tensor\n",
        "    d['img_paths'] = img_path_tensor\n",
        "\n",
        "    labels = dataframe[\"data_label\"]\n",
        "    labels = tf.convert_to_tensor(labels)\n",
        "    ds = tf.data.Dataset.from_tensor_slices((d, labels))\n",
        "    return ds"
      ],
      "metadata": {
        "id": "6VoNrI5cG7m0"
      },
      "execution_count": 16,
      "outputs": []
    },
    {
      "cell_type": "code",
      "source": [
        "@tf.function\n",
        "def preprocess_image(image_path):\n",
        "    extension = tf.strings.split(image_path)[-1]\n",
        "\n",
        "    image = tf.io.read_file(image_path)\n",
        "    if extension == b\"jpg\":\n",
        "        image = tf.image.decode_jpeg(image, 3)\n",
        "    else:\n",
        "        image = tf.image.decode_png(image, 3)\n",
        "    image = tf.image.resize(image, (224, 224))\n",
        "    image = tf.image.per_image_standardization(image)\n",
        "    return image\n",
        "\n",
        "@tf.function\n",
        "def preprocess_text(sample):\n",
        "    pass\n",
        "\n",
        "@tf.function\n",
        "def preprocess_text_and_image(sample):\n",
        "    image = preprocess_image(sample[\"img_paths\"])\n",
        "    text = sample['texts_embedding']\n",
        "    return {\"image_inputs\": image,  \"text_inputs\": text}"
      ],
      "metadata": {
        "id": "FPkfitFvG7o0"
      },
      "execution_count": 17,
      "outputs": []
    },
    {
      "cell_type": "code",
      "source": [
        "batch_size = 64\n",
        "auto = tf.data.AUTOTUNE\n",
        "\n",
        "def prepare_dataset(dataframe, training = True):\n",
        "    ds = dataframe_to_dataset(dataframe)\n",
        "    if training:\n",
        "        ds = ds.shuffle(len(train_df))\n",
        "    ds = ds.map(lambda x, y: (preprocess_text_and_image(x), y)).cache()\n",
        "    ds = ds.batch(batch_size).prefetch(auto)\n",
        "    return ds"
      ],
      "metadata": {
        "id": "J88nwUvfG7qp"
      },
      "execution_count": 18,
      "outputs": []
    },
    {
      "cell_type": "code",
      "source": [
        "train_ds = prepare_dataset(train_df)\n",
        "val_ds = prepare_dataset(val_df, False)\n",
        "test_ds = prepare_dataset(test_df, False)"
      ],
      "metadata": {
        "id": "Vc7keUxPHmq1"
      },
      "execution_count": 19,
      "outputs": []
    },
    {
      "cell_type": "code",
      "source": [
        "from keras.models import Sequential\n",
        "from keras.layers import Embedding, LSTM, Flatten,  Dense, Dropout, Conv1D, GlobalMaxPooling1D, MaxPooling1D, GlobalMaxPooling2D\n",
        "from keras.initializers import Constant\n",
        "from tensorflow.keras.optimizers import Adam"
      ],
      "metadata": {
        "id": "aZHvW1L2HmtB"
      },
      "execution_count": 20,
      "outputs": []
    },
    {
      "cell_type": "code",
      "source": [
        "def create_text_encoder(text_projection_dims, dropout_rate, text_model, text_model_trainable):\n",
        "\n",
        "    embedding_matrix = get_embedding_matrix(text_model)\n",
        "\n",
        "    filter_size = 128\n",
        "    stride_unit = 1\n",
        "    kernels = 3\n",
        "    dropout_rate = 0.2\n",
        "    dropout_rate_conv = 0.5\n",
        "\n",
        "    inputs = keras.Input(shape=(500,), dtype=tf.int32, name=\"text_inputs\")\n",
        "\n",
        "    if text_model == \"glove\":\n",
        "        embed = tf.keras.layers.Embedding(  num_words,\n",
        "                                            200,\n",
        "                                            input_length = max_len,\n",
        "                                            embeddings_initializer = Constant(embedding_matrix),\n",
        "                                            trainable = text_model_trainable\n",
        "                                        )(inputs)\n",
        "    if text_model == \"fasttext\":\n",
        "        embed = tf.keras.layers.Embedding(  num_words,\n",
        "                                            300,\n",
        "                                            input_length = max_len,\n",
        "                                            embeddings_initializer = Constant(embedding_matrix),\n",
        "                                            trainable = text_model_trainable\n",
        "                                        )(inputs)\n",
        "\n",
        "    x = tf.keras.layers.Dropout(dropout_rate)(embed)\n",
        "\n",
        "\n",
        "    x = tf.keras.layers.Conv1D(filters=filter_size,kernel_size=kernels, padding='valid',activation='relu',strides=stride_unit,\n",
        "                               kernel_initializer = \"glorot_uniform\" ,bias_initializer = 'zeros')(x)\n",
        "    x = tf.keras.layers.MaxPooling1D()(x)\n",
        "    x = tf.keras.layers.Dropout(dropout_rate_conv)(x)\n",
        "\n",
        "    x = tf.keras.layers.Conv1D(filters=filter_size,kernel_size=kernels, padding='valid',activation='relu',strides=stride_unit,\n",
        "                               kernel_initializer = \"glorot_uniform\" ,bias_initializer = 'zeros')(x)\n",
        "    x = tf.keras.layers.MaxPooling1D()(x)\n",
        "    x = tf.keras.layers.Dropout(dropout_rate_conv)(x)\n",
        "\n",
        "    x = tf.keras.layers.Conv1D(filters=filter_size,kernel_size=kernels, padding='valid',activation='relu',strides=stride_unit,\n",
        "                               kernel_initializer = \"glorot_uniform\" ,bias_initializer = 'zeros')(x)\n",
        "    x = tf.keras.layers.MaxPooling1D()(x)\n",
        "    x = tf.keras.layers.Dropout(dropout_rate_conv)(x)\n",
        "    \n",
        "    x = tf.keras.layers.Conv1D(filters=filter_size,kernel_size=kernels, padding='valid',activation='relu',strides=stride_unit,\n",
        "                               kernel_initializer = \"glorot_uniform\" ,bias_initializer = 'zeros')(x)\n",
        "    x = tf.keras.layers.MaxPooling1D()(x)\n",
        "    x = tf.keras.layers.Dropout(dropout_rate_conv)(x)\n",
        "\n",
        "    x = tf.keras.layers.Flatten()(x)\n",
        "    # x = tf.math.l2_normalize(x)\n",
        "    x = tf.keras.layers.Dropout(dropout_rate_conv)(x)\n",
        "     \n",
        "    outputs = keras.layers.Dense(units=text_projection_dims,activation=\"relu\",kernel_initializer=\"glorot_uniform\",bias_initializer='zeros')(x)\n",
        "    return keras.Model(inputs, outputs, name=\"text_encoder\")"
      ],
      "metadata": {
        "id": "ohTkuTPRHmvI"
      },
      "execution_count": 21,
      "outputs": []
    },
    {
      "cell_type": "code",
      "source": [
        "def create_vision_encoder(img_projection_dims, dropout_rate, image_model, img_base_model_trainable):\n",
        "    img_shape=(224,224,3)\n",
        "    seed_value = 42\n",
        "\n",
        "\n",
        "    if image_model == \"vgg16\":\n",
        "        base_model = tf.keras.applications.vgg16.VGG16(include_top=False,input_shape=img_shape,pooling='avg',classes=10,weights=None)\n",
        "        base_model.load_weights(vgg16_imagenet_weight_path)\n",
        "        base_model.trainable = img_base_model_trainable\n",
        "\n",
        "    elif image_model == \"resnet50\":\n",
        "        base_model= tf.keras.applications.ResNet50(include_top=False,input_shape=img_shape,pooling='avg',classes=10,weights=None)\n",
        "        base_model.load_weights(resnet50_imagenet_weight_path)\n",
        "        base_model.trainable = img_base_model_trainable\n",
        "\n",
        "    elif image_model == \"mobilenetv2\":\n",
        "        base_model=tf.keras.applications.MobileNetV2(include_top=False,input_shape=img_shape,pooling='avg', classes=10,weights=None)\n",
        "        base_model.load_weights(mobilenetv2_imagenet_weight_path)\n",
        "        base_model.trainable = img_base_model_trainable\n",
        "\n",
        "\n",
        "\n",
        "    inputs = keras.Input(shape=img_shape)\n",
        "    x = base_model(inputs, training = img_base_model_trainable)\n",
        "    outputs =tf.keras.layers.Dense(img_projection_dims,kernel_initializer =\"glorot_uniform\",bias_initializer= \"zeros\",activation='relu')(x)\n",
        "\n",
        "    model=Model(inputs, outputs)\n",
        "\n",
        "    # Receive the images as inputs.\n",
        "    image_inputs = keras.Input(shape=(224, 224, 3), name=\"image_inputs\")\n",
        "\n",
        "    if image_model == \"vgg16\":\n",
        "        preprocessed_image = tf.keras.applications.vgg16.preprocess_input(image_inputs)\n",
        "    if image_model == \"resnet50\":\n",
        "        preprocessed_image = tf.keras.applications.resnet50.preprocess_input(image_inputs)    \n",
        "    if image_model == \"mobilenetv2\":\n",
        "        preprocessed_image = tf.keras.applications.mobilenet_v2.preprocess_input(image_inputs)\n",
        "\n",
        "    embeddings = model(preprocessed_image)\n",
        "\n",
        "    # Create the vision encoder model.\n",
        "    return keras.Model(image_inputs, embeddings, name=\"vision_encoder\")"
      ],
      "metadata": {
        "id": "YUavauzSHmxE"
      },
      "execution_count": 22,
      "outputs": []
    },
    {
      "cell_type": "code",
      "source": [
        "def create_multimodal_model(**kwargs):\n",
        "\n",
        "    img_projection_dims = kwargs['img_projection_dims']\n",
        "    text_projection_dims = kwargs['text_projection_dims']\n",
        "    dropout_rate = kwargs['dropout_rate']\n",
        "    image_model = kwargs['image_model']\n",
        "    text_model = kwargs['text_model']\n",
        "    img_base_model_trainable = kwargs['img_base_model_trainable']\n",
        "    text_model_trainable = kwargs['text_model_trainable']\n",
        "\n",
        "    if image_model == \"None\" and text_model == \"None\":\n",
        "        print(\"Both the image_model and text_model cannot be None at the same time !!\")\n",
        "        return\n",
        "    # Receive the images and text as inputs.\n",
        "    if image_model != \"None\":\n",
        "        image_inputs = keras.Input(shape=(224, 224, 3), name=\"image_inputs\")\n",
        "        vision_encoder = create_vision_encoder(img_projection_dims, dropout_rate, image_model, img_base_model_trainable)\n",
        "        vision_projections = vision_encoder(image_inputs)\n",
        "\n",
        "    if text_model != \"None\":   \n",
        "        text_inputs = keras.Input(shape=(500,), dtype=tf.int32, name=\"text_inputs\")\n",
        "        text_encoder = create_text_encoder(text_projection_dims, dropout_rate, text_model, text_model_trainable)\n",
        "        text_projections = text_encoder(text_inputs)\n",
        "\n",
        "\n",
        "    # Concatenate the projections and pass through the classification layer.\n",
        "    if image_model != \"None\" and text_model != \"None\":\n",
        "        concatenated = keras.layers.Concatenate()([vision_projections, text_projections])\n",
        "    # concatenated = tf.keras.layers.BatchNormalization(momentum=0.9)(concatenated)\n",
        "\n",
        "\n",
        "    if image_model == \"None\" and text_model != \"None\":\n",
        "        outputs = keras.layers.Dense(10, activation=\"softmax\")(text_projections)\n",
        "        return keras.Model(text_inputs, outputs)\n",
        "    elif text_model == \"None\" and image_model != \"None\":    \n",
        "        outputs = keras.layers.Dense(10, activation=\"softmax\")(vision_projections)\n",
        "        return keras.Model(image_inputs, outputs)\n",
        "    elif text_model != \"None\" and image_model != \"None\":\n",
        "        outputs = keras.layers.Dense(10, activation=\"softmax\")(concatenated)\n",
        "        return keras.Model([image_inputs, text_inputs], outputs)\n",
        "    else:\n",
        "        return None\n",
        "\n",
        "    "
      ],
      "metadata": {
        "id": "bSJ8B8tqHmzA"
      },
      "execution_count": 23,
      "outputs": []
    },
    {
      "cell_type": "code",
      "source": [
        "\"\"\"\n",
        "options for image_model : [\"vgg16\", \"resnet50\", \"mobilenetv2\"] (case-sensitive input)\n",
        "options for text_model : [\"glove\", \"fasttext\"] (case-sensitive input)\n",
        "\"\"\"\n",
        "\n",
        "multimodal_model = create_multimodal_model( \n",
        "    img_projection_dims=512,\n",
        "    text_projection_dims=512,\n",
        "    dropout_rate=0.2,\n",
        "    image_model = \"vgg16\",\n",
        "    text_model = \"None\", \n",
        "    img_base_model_trainable=False,\n",
        "    text_model_trainable= False\n",
        ")"
      ],
      "metadata": {
        "id": "NDp3eJ0nHm0_"
      },
      "execution_count": 46,
      "outputs": []
    },
    {
      "cell_type": "code",
      "source": [
        "multimodal_model.compile(Adamax(learning_rate=0.001), loss=\"sparse_categorical_crossentropy\", metrics=\"accuracy\")"
      ],
      "metadata": {
        "id": "UNILrVExHm26"
      },
      "execution_count": 51,
      "outputs": []
    },
    {
      "cell_type": "code",
      "source": [
        "keras.utils.plot_model(multimodal_model, show_shapes=True)"
      ],
      "metadata": {
        "colab": {
          "base_uri": "https://localhost:8080/",
          "height": 312
        },
        "id": "5F4mQHJjHm46",
        "outputId": "e32a6c48-0827-4c1f-852b-e132aa6415c2"
      },
      "execution_count": 52,
      "outputs": [
        {
          "output_type": "execute_result",
          "data": {
            "text/plain": [
              "<IPython.core.display.Image object>"
            ],
            "image/png": "[encoded data removed]"
          },
          "metadata": {},
          "execution_count": 52
        }
      ]
    },
    {
      "cell_type": "code",
      "source": [
        "multimodal_model.layers"
      ],
      "metadata": {
        "colab": {
          "base_uri": "https://localhost:8080/"
        },
        "id": "0EkMs6TyHm8j",
        "outputId": "0d3d059a-bb73-48f4-8255-6fc733494481"
      },
      "execution_count": 42,
      "outputs": [
        {
          "output_type": "execute_result",
          "data": {
            "text/plain": [
              "[<keras.engine.input_layer.InputLayer at 0x7f13ac1f8d50>,\n",
              " <keras.engine.functional.Functional at 0x7f13ac154210>,\n",
              " <keras.layers.core.dense.Dense at 0x7f13ac161b10>]"
            ]
          },
          "metadata": {},
          "execution_count": 42
        }
      ]
    },
    {
      "cell_type": "code",
      "source": [
        "history_fine = multimodal_model.fit(train_ds, validation_data=val_ds, epochs=50, verbose=2)\n",
        "\n",
        "# y_pred = multimodal_model.predict(test_ds)\n",
        "# y_pred = [np.argmax(i) for i in y_pred]\n",
        "\n",
        "# y_true = []\n",
        "# for element in test_ds:\n",
        "#     y_true.extend(list(element[1].numpy()))"
      ],
      "metadata": {
        "colab": {
          "base_uri": "https://localhost:8080/"
        },
        "id": "xlqvssvEHm-Q",
        "outputId": "eb2ce5e4-8dc1-4b2e-aab3-329a066a02b5"
      },
      "execution_count": 53,
      "outputs": [
        {
          "output_type": "stream",
          "name": "stdout",
          "text": [
            "Epoch 1/50\n"
          ]
        },
        {
          "output_type": "stream",
          "name": "stderr",
          "text": [
            "/usr/local/lib/python3.7/dist-packages/keras/engine/functional.py:559: UserWarning: Input dict contained keys ['text_inputs'] which did not match any model input. They will be ignored by the model.\n",
            "  inputs = self._flatten_to_reference_inputs(inputs)\n"
          ]
        },
        {
          "output_type": "stream",
          "name": "stdout",
          "text": [
            "44/44 - 16s - loss: 0.6234 - accuracy: 0.7910 - val_loss: 0.9093 - val_accuracy: 0.7077 - 16s/epoch - 370ms/step\n",
            "Epoch 2/50\n",
            "44/44 - 16s - loss: 0.5954 - accuracy: 0.8101 - val_loss: 0.9095 - val_accuracy: 0.7077 - 16s/epoch - 354ms/step\n",
            "Epoch 3/50\n",
            "44/44 - 16s - loss: 0.5854 - accuracy: 0.8133 - val_loss: 0.9098 - val_accuracy: 0.7106 - 16s/epoch - 354ms/step\n",
            "Epoch 4/50\n",
            "44/44 - 15s - loss: 0.5789 - accuracy: 0.8169 - val_loss: 0.9102 - val_accuracy: 0.7106 - 15s/epoch - 345ms/step\n",
            "Epoch 5/50\n",
            "44/44 - 15s - loss: 0.5726 - accuracy: 0.8176 - val_loss: 0.9110 - val_accuracy: 0.7135 - 15s/epoch - 341ms/step\n",
            "Epoch 6/50\n",
            "44/44 - 15s - loss: 0.5661 - accuracy: 0.8190 - val_loss: 0.9117 - val_accuracy: 0.7163 - 15s/epoch - 342ms/step\n",
            "Epoch 7/50\n",
            "44/44 - 15s - loss: 0.5597 - accuracy: 0.8208 - val_loss: 0.9117 - val_accuracy: 0.7163 - 15s/epoch - 352ms/step\n",
            "Epoch 8/50\n",
            "44/44 - 15s - loss: 0.5532 - accuracy: 0.8223 - val_loss: 0.9117 - val_accuracy: 0.7135 - 15s/epoch - 352ms/step\n",
            "Epoch 9/50\n",
            "44/44 - 15s - loss: 0.5467 - accuracy: 0.8259 - val_loss: 0.9122 - val_accuracy: 0.7106 - 15s/epoch - 343ms/step\n",
            "Epoch 10/50\n",
            "44/44 - 15s - loss: 0.5402 - accuracy: 0.8273 - val_loss: 0.9127 - val_accuracy: 0.7106 - 15s/epoch - 340ms/step\n",
            "Epoch 11/50\n",
            "44/44 - 15s - loss: 0.5337 - accuracy: 0.8309 - val_loss: 0.9133 - val_accuracy: 0.7049 - 15s/epoch - 343ms/step\n",
            "Epoch 12/50\n",
            "44/44 - 15s - loss: 0.5273 - accuracy: 0.8338 - val_loss: 0.9146 - val_accuracy: 0.7077 - 15s/epoch - 352ms/step\n",
            "Epoch 13/50\n",
            "44/44 - 15s - loss: 0.5212 - accuracy: 0.8373 - val_loss: 0.9146 - val_accuracy: 0.7049 - 15s/epoch - 345ms/step\n",
            "Epoch 14/50\n",
            "44/44 - 15s - loss: 0.5148 - accuracy: 0.8399 - val_loss: 0.9156 - val_accuracy: 0.7049 - 15s/epoch - 343ms/step\n",
            "Epoch 15/50\n",
            "44/44 - 15s - loss: 0.5086 - accuracy: 0.8420 - val_loss: 0.9169 - val_accuracy: 0.7077 - 15s/epoch - 346ms/step\n",
            "Epoch 16/50\n",
            "44/44 - 16s - loss: 0.5026 - accuracy: 0.8442 - val_loss: 0.9177 - val_accuracy: 0.7077 - 16s/epoch - 353ms/step\n",
            "Epoch 17/50\n",
            "44/44 - 15s - loss: 0.4964 - accuracy: 0.8460 - val_loss: 0.9189 - val_accuracy: 0.7106 - 15s/epoch - 342ms/step\n",
            "Epoch 18/50\n",
            "44/44 - 15s - loss: 0.4905 - accuracy: 0.8470 - val_loss: 0.9199 - val_accuracy: 0.7135 - 15s/epoch - 343ms/step\n",
            "Epoch 19/50\n",
            "44/44 - 16s - loss: 0.4847 - accuracy: 0.8503 - val_loss: 0.9215 - val_accuracy: 0.7106 - 16s/epoch - 353ms/step\n",
            "Epoch 20/50\n",
            "44/44 - 15s - loss: 0.4788 - accuracy: 0.8503 - val_loss: 0.9228 - val_accuracy: 0.7106 - 15s/epoch - 343ms/step\n",
            "Epoch 21/50\n",
            "44/44 - 15s - loss: 0.4731 - accuracy: 0.8521 - val_loss: 0.9244 - val_accuracy: 0.7077 - 15s/epoch - 346ms/step\n",
            "Epoch 22/50\n",
            "44/44 - 15s - loss: 0.4673 - accuracy: 0.8542 - val_loss: 0.9267 - val_accuracy: 0.7135 - 15s/epoch - 343ms/step\n",
            "Epoch 23/50\n",
            "44/44 - 15s - loss: 0.4617 - accuracy: 0.8549 - val_loss: 0.9290 - val_accuracy: 0.7135 - 15s/epoch - 347ms/step\n",
            "Epoch 24/50\n",
            "44/44 - 15s - loss: 0.4560 - accuracy: 0.8575 - val_loss: 0.9303 - val_accuracy: 0.7163 - 15s/epoch - 350ms/step\n",
            "Epoch 25/50\n",
            "44/44 - 15s - loss: 0.4502 - accuracy: 0.8596 - val_loss: 0.9333 - val_accuracy: 0.7163 - 15s/epoch - 343ms/step\n",
            "Epoch 26/50\n",
            "44/44 - 15s - loss: 0.4449 - accuracy: 0.8621 - val_loss: 0.9354 - val_accuracy: 0.7163 - 15s/epoch - 348ms/step\n",
            "Epoch 27/50\n",
            "44/44 - 15s - loss: 0.4394 - accuracy: 0.8625 - val_loss: 0.9369 - val_accuracy: 0.7192 - 15s/epoch - 343ms/step\n",
            "Epoch 28/50\n",
            "44/44 - 15s - loss: 0.4340 - accuracy: 0.8650 - val_loss: 0.9405 - val_accuracy: 0.7192 - 15s/epoch - 345ms/step\n",
            "Epoch 29/50\n",
            "44/44 - 15s - loss: 0.4287 - accuracy: 0.8643 - val_loss: 0.9429 - val_accuracy: 0.7221 - 15s/epoch - 352ms/step\n",
            "Epoch 30/50\n",
            "44/44 - 15s - loss: 0.4236 - accuracy: 0.8668 - val_loss: 0.9463 - val_accuracy: 0.7221 - 15s/epoch - 346ms/step\n",
            "Epoch 31/50\n",
            "44/44 - 15s - loss: 0.4182 - accuracy: 0.8682 - val_loss: 0.9482 - val_accuracy: 0.7221 - 15s/epoch - 342ms/step\n",
            "Epoch 32/50\n",
            "44/44 - 15s - loss: 0.4130 - accuracy: 0.8704 - val_loss: 0.9513 - val_accuracy: 0.7221 - 15s/epoch - 343ms/step\n",
            "Epoch 33/50\n",
            "44/44 - 15s - loss: 0.4079 - accuracy: 0.8715 - val_loss: 0.9545 - val_accuracy: 0.7221 - 15s/epoch - 351ms/step\n",
            "Epoch 34/50\n",
            "44/44 - 15s - loss: 0.4029 - accuracy: 0.8743 - val_loss: 0.9576 - val_accuracy: 0.7192 - 15s/epoch - 344ms/step\n",
            "Epoch 35/50\n",
            "44/44 - 15s - loss: 0.3981 - accuracy: 0.8776 - val_loss: 0.9612 - val_accuracy: 0.7163 - 15s/epoch - 348ms/step\n",
            "Epoch 36/50\n",
            "44/44 - 15s - loss: 0.3931 - accuracy: 0.8797 - val_loss: 0.9643 - val_accuracy: 0.7192 - 15s/epoch - 343ms/step\n",
            "Epoch 37/50\n",
            "44/44 - 15s - loss: 0.3882 - accuracy: 0.8804 - val_loss: 0.9666 - val_accuracy: 0.7135 - 15s/epoch - 342ms/step\n",
            "Epoch 38/50\n",
            "44/44 - 15s - loss: 0.3832 - accuracy: 0.8819 - val_loss: 0.9703 - val_accuracy: 0.7163 - 15s/epoch - 342ms/step\n",
            "Epoch 39/50\n",
            "44/44 - 16s - loss: 0.3784 - accuracy: 0.8851 - val_loss: 0.9745 - val_accuracy: 0.7163 - 16s/epoch - 353ms/step\n",
            "Epoch 40/50\n",
            "44/44 - 15s - loss: 0.3736 - accuracy: 0.8851 - val_loss: 0.9771 - val_accuracy: 0.7135 - 15s/epoch - 351ms/step\n",
            "Epoch 41/50\n",
            "44/44 - 15s - loss: 0.3687 - accuracy: 0.8873 - val_loss: 0.9803 - val_accuracy: 0.7163 - 15s/epoch - 343ms/step\n",
            "Epoch 42/50\n",
            "44/44 - 15s - loss: 0.3642 - accuracy: 0.8876 - val_loss: 0.9828 - val_accuracy: 0.7135 - 15s/epoch - 344ms/step\n",
            "Epoch 43/50\n",
            "44/44 - 15s - loss: 0.3596 - accuracy: 0.8901 - val_loss: 0.9872 - val_accuracy: 0.7135 - 15s/epoch - 348ms/step\n",
            "Epoch 44/50\n",
            "44/44 - 15s - loss: 0.3552 - accuracy: 0.8912 - val_loss: 0.9915 - val_accuracy: 0.7135 - 15s/epoch - 343ms/step\n",
            "Epoch 45/50\n",
            "44/44 - 16s - loss: 0.3506 - accuracy: 0.8948 - val_loss: 0.9947 - val_accuracy: 0.7163 - 16s/epoch - 367ms/step\n",
            "Epoch 46/50\n",
            "44/44 - 15s - loss: 0.3462 - accuracy: 0.8977 - val_loss: 0.9982 - val_accuracy: 0.7192 - 15s/epoch - 343ms/step\n",
            "Epoch 47/50\n",
            "44/44 - 15s - loss: 0.3419 - accuracy: 0.8984 - val_loss: 1.0027 - val_accuracy: 0.7192 - 15s/epoch - 348ms/step\n",
            "Epoch 48/50\n",
            "44/44 - 15s - loss: 0.3375 - accuracy: 0.9009 - val_loss: 1.0078 - val_accuracy: 0.7163 - 15s/epoch - 346ms/step\n",
            "Epoch 49/50\n",
            "44/44 - 15s - loss: 0.3334 - accuracy: 0.9031 - val_loss: 1.0123 - val_accuracy: 0.7106 - 15s/epoch - 343ms/step\n",
            "Epoch 50/50\n",
            "44/44 - 15s - loss: 0.3291 - accuracy: 0.9045 - val_loss: 1.0178 - val_accuracy: 0.7135 - 15s/epoch - 345ms/step\n"
          ]
        }
      ]
    },
    {
      "cell_type": "code",
      "source": [
        ""
      ],
      "metadata": {
        "id": "nd561cPlckll"
      },
      "execution_count": null,
      "outputs": []
    }
  ]
}